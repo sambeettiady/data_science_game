{
 "cells": [
  {
   "cell_type": "code",
   "execution_count": 1,
   "metadata": {},
   "outputs": [],
   "source": [
    "%matplotlib inline\n",
    "import pandas as pd\n",
    "import numpy as np\n",
    "import seaborn as sns\n",
    "import os\n",
    "import gc\n",
    "from IPython.core.display import display, HTML, display_pretty\n",
    "import matplotlib.pyplot as plt\n",
    "from sklearn.model_selection import train_test_split\n",
    "from sklearn.preprocessing import LabelEncoder\n",
    "from sklearn.model_selection import KFold\n",
    "import lightgbm as lgb\n",
    "from imblearn.datasets import make_imbalance\n",
    "os.chdir('/home/sambeet/data/dsg/')\n",
    "import fastFM as fm\n",
    "import time\n",
    "from sklearn.preprocessing import OneHotEncoder\n",
    "from fastFM import als\n",
    "from sklearn.metrics import roc_auc_score"
   ]
  },
  {
   "cell_type": "code",
   "execution_count": 2,
   "metadata": {
    "scrolled": false
   },
   "outputs": [
    {
     "data": {
      "text/html": [
       "<div>\n",
       "<style scoped>\n",
       "    .dataframe tbody tr th:only-of-type {\n",
       "        vertical-align: middle;\n",
       "    }\n",
       "\n",
       "    .dataframe tbody tr th {\n",
       "        vertical-align: top;\n",
       "    }\n",
       "\n",
       "    .dataframe thead th {\n",
       "        text-align: right;\n",
       "    }\n",
       "</style>\n",
       "<table border=\"1\" class=\"dataframe\">\n",
       "  <thead>\n",
       "    <tr style=\"text-align: right;\">\n",
       "      <th></th>\n",
       "      <th>CustomerIdx</th>\n",
       "      <th>IsinIdx</th>\n",
       "      <th>CustomerInterest</th>\n",
       "      <th>year</th>\n",
       "      <th>weekofyear</th>\n",
       "    </tr>\n",
       "  </thead>\n",
       "  <tbody>\n",
       "    <tr>\n",
       "      <th>0</th>\n",
       "      <td>2789</td>\n",
       "      <td>50547</td>\n",
       "      <td>True</td>\n",
       "      <td>2016</td>\n",
       "      <td>49</td>\n",
       "    </tr>\n",
       "    <tr>\n",
       "      <th>1</th>\n",
       "      <td>2574</td>\n",
       "      <td>9951</td>\n",
       "      <td>True</td>\n",
       "      <td>2017</td>\n",
       "      <td>13</td>\n",
       "    </tr>\n",
       "    <tr>\n",
       "      <th>2</th>\n",
       "      <td>2574</td>\n",
       "      <td>42358</td>\n",
       "      <td>True</td>\n",
       "      <td>2017</td>\n",
       "      <td>16</td>\n",
       "    </tr>\n",
       "    <tr>\n",
       "      <th>3</th>\n",
       "      <td>2574</td>\n",
       "      <td>53597</td>\n",
       "      <td>True</td>\n",
       "      <td>2017</td>\n",
       "      <td>10</td>\n",
       "    </tr>\n",
       "    <tr>\n",
       "      <th>4</th>\n",
       "      <td>2574</td>\n",
       "      <td>51440</td>\n",
       "      <td>True</td>\n",
       "      <td>2016</td>\n",
       "      <td>46</td>\n",
       "    </tr>\n",
       "  </tbody>\n",
       "</table>\n",
       "</div>"
      ],
      "text/plain": [
       "   CustomerIdx  IsinIdx  CustomerInterest  year  weekofyear\n",
       "0         2789    50547              True  2016          49\n",
       "1         2574     9951              True  2017          13\n",
       "2         2574    42358              True  2017          16\n",
       "3         2574    53597              True  2017          10\n",
       "4         2574    51440              True  2016          46"
      ]
     },
     "execution_count": 2,
     "metadata": {},
     "output_type": "execute_result"
    }
   ],
   "source": [
    "trade = pd.read_csv('Trade.csv',parse_dates=['TradeDateKey'])\n",
    "#trade['CustomerInterest'] = True\n",
    "#trade = trade[trade.TradeDateKey >= '11-01-2017']\n",
    "trade['BuySell'] = trade['BuySell'].astype('category')\n",
    "trade['TradeStatus'] = trade['TradeStatus'].astype('category')\n",
    "trade['CustomerInterest'] = trade['CustomerInterest'].astype('bool')\n",
    "trade['year'] = trade.TradeDateKey.dt.year\n",
    "trade['month'] = trade.TradeDateKey.dt.month\n",
    "trade['weekofyear'] = trade.TradeDateKey.dt.weekofyear\n",
    "trade['IsinIdx'] = trade['IsinIdx'].astype(str) + '_' + trade['BuySell'].astype(str)\n",
    "encoder_bondbs = LabelEncoder()\n",
    "encoder_bondbs.fit(trade['IsinIdx'])\n",
    "trade['IsinIdx'] = encoder_bondbs.transform(trade['IsinIdx'])\n",
    "test = trade[['CustomerIdx','IsinIdx']].drop_duplicates()\n",
    "trade.drop(['BuySell','TradeDateKey','NotionalEUR','Price','TradeStatus','month'],axis=1,inplace=True)\n",
    "trade.head()"
   ]
  },
  {
   "cell_type": "code",
   "execution_count": 3,
   "metadata": {},
   "outputs": [
    {
     "data": {
      "text/plain": [
       "(2046077, 2)"
      ]
     },
     "execution_count": 3,
     "metadata": {},
     "output_type": "execute_result"
    }
   ],
   "source": [
    "test.shape"
   ]
  },
  {
   "cell_type": "code",
   "execution_count": 4,
   "metadata": {
    "scrolled": true
   },
   "outputs": [
    {
     "name": "stdout",
     "output_type": "stream",
     "text": [
      "2016\n",
      "1\n"
     ]
    },
    {
     "name": "stderr",
     "output_type": "stream",
     "text": [
      "/home/sambeet/anaconda2/lib/python2.7/site-packages/ipykernel_launcher.py:18: FutureWarning: Sorting because non-concatenation axis is not aligned. A future version\n",
      "of pandas will change to not sort by default.\n",
      "\n",
      "To accept the future behavior, pass 'sort=True'.\n",
      "\n",
      "To retain the current behavior and silence the warning, pass sort=False\n",
      "\n"
     ]
    },
    {
     "name": "stdout",
     "output_type": "stream",
     "text": [
      "2\n",
      "3\n",
      "4\n",
      "5\n",
      "6\n",
      "7\n",
      "8\n",
      "9\n",
      "10\n",
      "11\n",
      "12\n",
      "13\n",
      "14\n",
      "15\n",
      "16\n",
      "17\n",
      "18\n",
      "19\n",
      "20\n",
      "21\n",
      "22\n",
      "23\n",
      "24\n",
      "25\n",
      "26\n",
      "27\n",
      "28\n",
      "29\n",
      "30\n",
      "31\n",
      "32\n",
      "33\n",
      "34\n",
      "35\n",
      "36\n",
      "37\n",
      "38\n",
      "39\n",
      "40\n",
      "41\n",
      "42\n",
      "43\n",
      "44\n",
      "45\n",
      "46\n",
      "47\n",
      "48\n",
      "49\n",
      "50\n",
      "51\n",
      "52\n",
      "53\n",
      "2017\n",
      "1\n",
      "2\n",
      "3\n",
      "4\n",
      "5\n",
      "6\n",
      "7\n",
      "8\n",
      "9\n",
      "10\n",
      "11\n",
      "12\n",
      "13\n",
      "14\n",
      "15\n",
      "16\n",
      "17\n",
      "18\n",
      "19\n",
      "20\n",
      "21\n",
      "22\n",
      "23\n",
      "24\n",
      "25\n",
      "26\n",
      "27\n",
      "28\n",
      "29\n",
      "30\n",
      "31\n",
      "32\n",
      "33\n",
      "34\n",
      "35\n",
      "36\n",
      "37\n",
      "38\n",
      "39\n",
      "40\n",
      "41\n",
      "42\n",
      "43\n",
      "44\n",
      "45\n",
      "46\n",
      "47\n",
      "48\n",
      "49\n",
      "50\n",
      "51\n",
      "52\n",
      "2018\n",
      "1\n",
      "2\n",
      "3\n",
      "4\n",
      "5\n",
      "6\n",
      "7\n",
      "8\n",
      "9\n",
      "10\n",
      "11\n",
      "12\n",
      "13\n",
      "14\n",
      "15\n",
      "16\n",
      "124.72400713 seconds\n"
     ]
    }
   ],
   "source": [
    "yearlist = list(np.unique(trade.year))\n",
    "weekofyearlist = list(np.unique(trade.weekofyear))\n",
    "start = time.time()\n",
    "for year in yearlist:\n",
    "    print year\n",
    "    for weekofyear in weekofyearlist:\n",
    "        if year == 2017 and weekofyear == 53:\n",
    "            continue\n",
    "        elif year == 2018 and weekofyear >= 17:\n",
    "            continue\n",
    "        else:\n",
    "            print weekofyear\n",
    "            temp = test.copy()\n",
    "            temp = temp.sample(frac=0.1)\n",
    "            temp['year'] = year\n",
    "            temp['weekofyear'] = weekofyear\n",
    "            temp['CustomerInterest'] = False\n",
    "            trade = pd.concat([trade,temp],axis=0)\n",
    "end = time.time()\n",
    "print end - start,'seconds'"
   ]
  },
  {
   "cell_type": "code",
   "execution_count": 5,
   "metadata": {},
   "outputs": [
    {
     "data": {
      "text/plain": [
       "(31519589, 5)"
      ]
     },
     "execution_count": 5,
     "metadata": {},
     "output_type": "execute_result"
    }
   ],
   "source": [
    "trade.shape"
   ]
  },
  {
   "cell_type": "code",
   "execution_count": 6,
   "metadata": {},
   "outputs": [],
   "source": [
    "categorical_holdings = ['CustomerIdx','IsinIdx','year','weekofyear']\n",
    "predictors_holdings = ['CustomerIdx','IsinIdx','year','weekofyear']\n",
    "target_holdings = 'CustomerInterest'"
   ]
  },
  {
   "cell_type": "code",
   "execution_count": 7,
   "metadata": {},
   "outputs": [
    {
     "data": {
      "text/plain": [
       "(31288906, 5)"
      ]
     },
     "execution_count": 7,
     "metadata": {},
     "output_type": "execute_result"
    }
   ],
   "source": [
    "trade = trade[~((trade.year == 2018) & (trade.weekofyear >= 16))].reset_index(drop=True)\n",
    "del temp,test\n",
    "gc.collect()\n",
    "trade.shape"
   ]
  },
  {
   "cell_type": "code",
   "execution_count": 8,
   "metadata": {
    "scrolled": false
   },
   "outputs": [
    {
     "data": {
      "text/html": [
       "<div>\n",
       "<style scoped>\n",
       "    .dataframe tbody tr th:only-of-type {\n",
       "        vertical-align: middle;\n",
       "    }\n",
       "\n",
       "    .dataframe tbody tr th {\n",
       "        vertical-align: top;\n",
       "    }\n",
       "\n",
       "    .dataframe thead th {\n",
       "        text-align: right;\n",
       "    }\n",
       "</style>\n",
       "<table border=\"1\" class=\"dataframe\">\n",
       "  <thead>\n",
       "    <tr style=\"text-align: right;\">\n",
       "      <th></th>\n",
       "      <th>CustomerIdx</th>\n",
       "      <th>IsinIdx</th>\n",
       "      <th>year</th>\n",
       "      <th>weekofyear</th>\n",
       "      <th>CustomerInterest</th>\n",
       "    </tr>\n",
       "  </thead>\n",
       "  <tbody>\n",
       "    <tr>\n",
       "      <th>0</th>\n",
       "      <td>0</td>\n",
       "      <td>14131</td>\n",
       "      <td>2016</td>\n",
       "      <td>13</td>\n",
       "      <td>False</td>\n",
       "    </tr>\n",
       "    <tr>\n",
       "      <th>1</th>\n",
       "      <td>0</td>\n",
       "      <td>14131</td>\n",
       "      <td>2016</td>\n",
       "      <td>19</td>\n",
       "      <td>False</td>\n",
       "    </tr>\n",
       "    <tr>\n",
       "      <th>2</th>\n",
       "      <td>0</td>\n",
       "      <td>14131</td>\n",
       "      <td>2016</td>\n",
       "      <td>30</td>\n",
       "      <td>False</td>\n",
       "    </tr>\n",
       "    <tr>\n",
       "      <th>3</th>\n",
       "      <td>0</td>\n",
       "      <td>14131</td>\n",
       "      <td>2016</td>\n",
       "      <td>32</td>\n",
       "      <td>False</td>\n",
       "    </tr>\n",
       "    <tr>\n",
       "      <th>4</th>\n",
       "      <td>0</td>\n",
       "      <td>14131</td>\n",
       "      <td>2016</td>\n",
       "      <td>37</td>\n",
       "      <td>False</td>\n",
       "    </tr>\n",
       "  </tbody>\n",
       "</table>\n",
       "</div>"
      ],
      "text/plain": [
       "   CustomerIdx  IsinIdx  year  weekofyear  CustomerInterest\n",
       "0            0    14131  2016          13             False\n",
       "1            0    14131  2016          19             False\n",
       "2            0    14131  2016          30             False\n",
       "3            0    14131  2016          32             False\n",
       "4            0    14131  2016          37             False"
      ]
     },
     "execution_count": 8,
     "metadata": {},
     "output_type": "execute_result"
    }
   ],
   "source": [
    "trade = trade.groupby(['CustomerIdx','IsinIdx','year','weekofyear'])['CustomerInterest'].sum().reset_index()\n",
    "trade['CustomerInterest'] = trade.CustomerInterest >= 1\n",
    "trade.head()"
   ]
  },
  {
   "cell_type": "code",
   "execution_count": 9,
   "metadata": {},
   "outputs": [
    {
     "data": {
      "text/plain": [
       "0.05818555594711834"
      ]
     },
     "execution_count": 9,
     "metadata": {},
     "output_type": "execute_result"
    }
   ],
   "source": [
    "trade.CustomerInterest.mean()"
   ]
  },
  {
   "cell_type": "code",
   "execution_count": 10,
   "metadata": {
    "scrolled": true
   },
   "outputs": [
    {
     "name": "stdout",
     "output_type": "stream",
     "text": [
      "Training Iteration # 1\n",
      "Training Iteration # 2\n",
      "Training Iteration # 3\n",
      "Training Iteration # 4\n",
      "Training Iteration # 5\n",
      "Training Iteration # 6\n",
      "Training Iteration # 7\n",
      "Training Iteration # 8\n",
      "Training Iteration # 9\n",
      "Training Iteration # 10\n",
      "Training Iteration # 11\n",
      "Training Iteration # 12\n",
      "Training Iteration # 13\n",
      "Training Iteration # 14\n",
      "Training Iteration # 15\n",
      "Training Iteration # 16\n",
      "Training Iteration # 17\n",
      "Training Iteration # 18\n",
      "Training Iteration # 19\n",
      "Training Iteration # 20\n",
      "Training Iteration # 21\n",
      "Training Iteration # 22\n",
      "Training Iteration # 23\n",
      "Training Iteration # 24\n",
      "Training Iteration # 25\n",
      "Training Iteration # 26\n",
      "Training Iteration # 27\n",
      "Training Iteration # 28\n",
      "Training Iteration # 29\n",
      "Training Iteration # 30\n",
      "Training Iteration # 31\n",
      "Training Iteration # 32\n",
      "Training Iteration # 33\n",
      "Training Iteration # 34\n",
      "Training Iteration # 35\n",
      "Training Iteration # 36\n",
      "Training Iteration # 37\n",
      "Training Iteration # 38\n",
      "Training Iteration # 39\n",
      "Training Iteration # 40\n",
      "Training Iteration # 41\n",
      "Training Iteration # 42\n",
      "Training Iteration # 43\n",
      "Training Iteration # 44\n",
      "Training Iteration # 45\n",
      "Training Iteration # 46\n",
      "Training Iteration # 47\n",
      "Training Iteration # 48\n",
      "Training Iteration # 49\n",
      "Training Iteration # 50\n",
      "Training Iteration # 51\n",
      "Training Iteration # 52\n",
      "Training Iteration # 53\n",
      "Training Iteration # 54\n",
      "Training Iteration # 55\n",
      "Training Iteration # 56\n",
      "Training Iteration # 57\n",
      "Training Iteration # 58\n",
      "Training Iteration # 59\n",
      "Training Iteration # 60\n",
      "Training Iteration # 61\n",
      "Training Iteration # 62\n",
      "Training Iteration # 63\n",
      "Training Iteration # 64\n",
      "Training Iteration # 65\n",
      "Training Iteration # 66\n",
      "Training Iteration # 67\n",
      "Training Iteration # 68\n",
      "Training Iteration # 69\n",
      "Training Iteration # 70\n",
      "Training Iteration # 71\n",
      "Training Iteration # 72\n",
      "Training Iteration # 73\n",
      "Training Iteration # 74\n",
      "Training Iteration # 75\n",
      "Training Iteration # 76\n",
      "Training Iteration # 77\n",
      "Training Iteration # 78\n",
      "Training Iteration # 79\n",
      "Training Iteration # 80\n",
      "Training Iteration # 81\n",
      "Training Iteration # 82\n",
      "Training Iteration # 83\n",
      "Training Iteration # 84\n",
      "Training Iteration # 85\n",
      "Training Iteration # 86\n",
      "Training Iteration # 87\n",
      "Training Iteration # 88\n",
      "Training Iteration # 89\n",
      "Training Iteration # 90\n",
      "Training Iteration # 91\n",
      "Training Iteration # 92\n",
      "Training Iteration # 93\n",
      "Training Iteration # 94\n",
      "Training Iteration # 95\n",
      "Training Iteration # 96\n",
      "Training Iteration # 97\n",
      "Training Iteration # 98\n",
      "Training Iteration # 99\n",
      "Training Iteration # 100\n",
      "107.074475185  minutes\n"
     ]
    }
   ],
   "source": [
    "n_iter = 100\n",
    "step_size = 1\n",
    "start = time.time()\n",
    "for col in list(categorical_holdings):\n",
    "    trade[col] = trade[col].astype('category')\n",
    "encoder = OneHotEncoder().fit(trade[predictors_holdings])\n",
    "X_train, X_test, y_train, y_test = train_test_split(trade[predictors_holdings], trade[target_holdings])\n",
    "y_train = y_train.astype(int).values\n",
    "y_test = y_test.astype(int).values\n",
    "y_train[y_train == 0] = -1\n",
    "X_train = encoder.transform(X_train)\n",
    "X_test = encoder.transform(X_test)\n",
    "auc_train = []\n",
    "auc_test = []\n",
    "z = als.FMClassification(n_iter=0, l2_reg_w=0.1, l2_reg_V=0.1, rank=4)\n",
    "z.fit(X_train, y_train)\n",
    "for i in range(n_iter):\n",
    "    print 'Training Iteration #',i+1\n",
    "    z.fit(X_train, y_train, n_more_iter=step_size)\n",
    "    auc_train.append(roc_auc_score(y_train,z.predict_proba(X_train)))\n",
    "    auc_test.append(roc_auc_score(y_test,z.predict_proba(X_test)))\n",
    "end = time.time()\n",
    "print (end - start)/60, ' minutes'"
   ]
  },
  {
   "cell_type": "code",
   "execution_count": 11,
   "metadata": {
    "scrolled": false
   },
   "outputs": [
    {
     "data": {
      "text/plain": [
       "<matplotlib.legend.Legend at 0x7fc40471ed90>"
      ]
     },
     "execution_count": 11,
     "metadata": {},
     "output_type": "execute_result"
    },
    {
     "data": {
      "image/png": "[encoded data removed]",
      "text/plain": [
       "<matplotlib.figure.Figure at 0x7fc44a2d1210>"
      ]
     },
     "metadata": {},
     "output_type": "display_data"
    }
   ],
   "source": [
    "from matplotlib import pyplot as plt\n",
    "fig, axes = plt.subplots(ncols=1, figsize=(15, 10))\n",
    "x = np.arange(1, n_iter+1) * step_size\n",
    "with plt.style.context('fivethirtyeight'):\n",
    "    axes.plot(x, auc_train, label='AUC-train', color='r', ls=\"--\")\n",
    "    axes.plot(x, auc_test, label='AUC-test', color='r')\n",
    "axes.set_ylabel('AUC', color='r')\n",
    "axes.legend()"
   ]
  },
  {
   "cell_type": "markdown",
   "metadata": {
    "scrolled": false
   },
   "source": [
    "encoder = OneHotEncoder().fit(trade[predictors_holdings])\n",
    "kf = KFold(n_splits=5,shuffle=True,random_state=37)\n",
    "kf.get_n_splits(trade)\n",
    "for train_index, test_index in kf.split(trade):\n",
    "    X_train = trade.loc[train_index,predictors_holdings]\n",
    "    X_test = trade.loc[test_index,predictors_holdings]\n",
    "    y_train = trade.loc[train_index,target_holdings]\n",
    "    y_test = trade.loc[test_index,target_holdings]\n",
    "    y_train = y_train.astype(int).values.squeeze()\n",
    "    y_test = y_test.astype(int).values.squeeze()\n",
    "    y_train[y_train == 0] = -1\n",
    "    X_train = encoder.transform(X_train)\n",
    "    X_test = encoder.transform(X_test)\n",
    "    print 'Starting training on new fold!'\n",
    "    z = als.FMClassification(l2_reg_w=0.1, l2_reg_V=0.1, rank=4,n_iter=25)\n",
    "    z.fit(X_train,y_train)\n",
    "    y_pred_train = z.predict_proba(X_train)\n",
    "    y_pred_test = z.predict_proba(X_test)\n",
    "    y_train[y_train == -1] = 0\n",
    "    print 'Train AUC: ',roc_auc_score(y_train,y_pred_train)\n",
    "    print 'Test AUC: ',roc_auc_score(y_test,y_pred_test)"
   ]
  },
  {
   "cell_type": "code",
   "execution_count": 13,
   "metadata": {},
   "outputs": [
    {
     "ename": "KeyboardInterrupt",
     "evalue": "",
     "output_type": "error",
     "traceback": [
      "\u001b[0;31m---------------------------------------------------------------------------\u001b[0m",
      "\u001b[0;31mKeyboardInterrupt\u001b[0m                         Traceback (most recent call last)",
      "\u001b[0;32m<ipython-input-13-1b9deb735d5b>\u001b[0m in \u001b[0;36m<module>\u001b[0;34m()\u001b[0m\n\u001b[1;32m      3\u001b[0m \u001b[0mtest\u001b[0m\u001b[0;34m[\u001b[0m\u001b[0;34m'BuySell'\u001b[0m\u001b[0;34m]\u001b[0m \u001b[0;34m=\u001b[0m \u001b[0mtest\u001b[0m\u001b[0;34m[\u001b[0m\u001b[0;34m'BuySell'\u001b[0m\u001b[0;34m]\u001b[0m\u001b[0;34m.\u001b[0m\u001b[0mastype\u001b[0m\u001b[0;34m(\u001b[0m\u001b[0;34m'category'\u001b[0m\u001b[0;34m)\u001b[0m\u001b[0;34m\u001b[0m\u001b[0m\n\u001b[1;32m      4\u001b[0m \u001b[0mtest\u001b[0m\u001b[0;34m[\u001b[0m\u001b[0;34m'IsinIdx'\u001b[0m\u001b[0;34m]\u001b[0m \u001b[0;34m=\u001b[0m \u001b[0mtest\u001b[0m\u001b[0;34m[\u001b[0m\u001b[0;34m'IsinIdx'\u001b[0m\u001b[0;34m]\u001b[0m\u001b[0;34m.\u001b[0m\u001b[0mastype\u001b[0m\u001b[0;34m(\u001b[0m\u001b[0mstr\u001b[0m\u001b[0;34m)\u001b[0m \u001b[0;34m+\u001b[0m \u001b[0;34m'_'\u001b[0m \u001b[0;34m+\u001b[0m \u001b[0mtest\u001b[0m\u001b[0;34m[\u001b[0m\u001b[0;34m'BuySell'\u001b[0m\u001b[0;34m]\u001b[0m\u001b[0;34m.\u001b[0m\u001b[0mastype\u001b[0m\u001b[0;34m(\u001b[0m\u001b[0mstr\u001b[0m\u001b[0;34m)\u001b[0m\u001b[0;34m\u001b[0m\u001b[0m\n\u001b[0;32m----> 5\u001b[0;31m \u001b[0mtest\u001b[0m\u001b[0;34m[\u001b[0m\u001b[0;34m'IsinIdx'\u001b[0m\u001b[0;34m]\u001b[0m \u001b[0;34m=\u001b[0m \u001b[0mtest\u001b[0m\u001b[0;34m[\u001b[0m\u001b[0;34m'IsinIdx'\u001b[0m\u001b[0;34m]\u001b[0m\u001b[0;34m.\u001b[0m\u001b[0mmap\u001b[0m\u001b[0;34m(\u001b[0m\u001b[0;32mlambda\u001b[0m \u001b[0ms\u001b[0m\u001b[0;34m:\u001b[0m \u001b[0;34m'<unknown>'\u001b[0m \u001b[0;32mif\u001b[0m \u001b[0ms\u001b[0m \u001b[0;32mnot\u001b[0m \u001b[0;32min\u001b[0m \u001b[0mencoder_bondbs\u001b[0m\u001b[0;34m.\u001b[0m\u001b[0mclasses_\u001b[0m \u001b[0;32melse\u001b[0m \u001b[0ms\u001b[0m\u001b[0;34m)\u001b[0m\u001b[0;34m\u001b[0m\u001b[0m\n\u001b[0m\u001b[1;32m      6\u001b[0m \u001b[0mencoder_bondbs\u001b[0m\u001b[0;34m.\u001b[0m\u001b[0mclasses_\u001b[0m \u001b[0;34m=\u001b[0m \u001b[0mnp\u001b[0m\u001b[0;34m.\u001b[0m\u001b[0mappend\u001b[0m\u001b[0;34m(\u001b[0m\u001b[0mencoder_bondbs\u001b[0m\u001b[0;34m.\u001b[0m\u001b[0mclasses_\u001b[0m\u001b[0;34m,\u001b[0m \u001b[0;34m'<unknown>'\u001b[0m\u001b[0;34m)\u001b[0m\u001b[0;34m\u001b[0m\u001b[0m\n\u001b[1;32m      7\u001b[0m \u001b[0mtest\u001b[0m\u001b[0;34m[\u001b[0m\u001b[0;34m'IsinIdx'\u001b[0m\u001b[0;34m]\u001b[0m \u001b[0;34m=\u001b[0m \u001b[0mencoder_bondbs\u001b[0m\u001b[0;34m.\u001b[0m\u001b[0mtransform\u001b[0m\u001b[0;34m(\u001b[0m\u001b[0mtest\u001b[0m\u001b[0;34m[\u001b[0m\u001b[0;34m'IsinIdx'\u001b[0m\u001b[0;34m]\u001b[0m\u001b[0;34m)\u001b[0m\u001b[0;34m\u001b[0m\u001b[0m\n",
      "\u001b[0;32m/home/sambeet/anaconda2/lib/python2.7/site-packages/pandas/core/series.pyc\u001b[0m in \u001b[0;36mmap\u001b[0;34m(self, arg, na_action)\u001b[0m\n\u001b[1;32m   2994\u001b[0m         \"\"\"\n\u001b[1;32m   2995\u001b[0m         new_values = super(Series, self)._map_values(\n\u001b[0;32m-> 2996\u001b[0;31m             arg, na_action=na_action)\n\u001b[0m\u001b[1;32m   2997\u001b[0m         return self._constructor(new_values,\n\u001b[1;32m   2998\u001b[0m                                  index=self.index).__finalize__(self)\n",
      "\u001b[0;32m/home/sambeet/anaconda2/lib/python2.7/site-packages/pandas/core/base.pyc\u001b[0m in \u001b[0;36m_map_values\u001b[0;34m(self, mapper, na_action)\u001b[0m\n\u001b[1;32m   1002\u001b[0m \u001b[0;34m\u001b[0m\u001b[0m\n\u001b[1;32m   1003\u001b[0m         \u001b[0;31m# mapper is a function\u001b[0m\u001b[0;34m\u001b[0m\u001b[0;34m\u001b[0m\u001b[0m\n\u001b[0;32m-> 1004\u001b[0;31m         \u001b[0mnew_values\u001b[0m \u001b[0;34m=\u001b[0m \u001b[0mmap_f\u001b[0m\u001b[0;34m(\u001b[0m\u001b[0mvalues\u001b[0m\u001b[0;34m,\u001b[0m \u001b[0mmapper\u001b[0m\u001b[0;34m)\u001b[0m\u001b[0;34m\u001b[0m\u001b[0m\n\u001b[0m\u001b[1;32m   1005\u001b[0m \u001b[0;34m\u001b[0m\u001b[0m\n\u001b[1;32m   1006\u001b[0m         \u001b[0;32mreturn\u001b[0m \u001b[0mnew_values\u001b[0m\u001b[0;34m\u001b[0m\u001b[0m\n",
      "\u001b[0;32mpandas/_libs/src/inference.pyx\u001b[0m in \u001b[0;36mpandas._libs.lib.map_infer\u001b[0;34m()\u001b[0m\n",
      "\u001b[0;32m<ipython-input-13-1b9deb735d5b>\u001b[0m in \u001b[0;36m<lambda>\u001b[0;34m(s)\u001b[0m\n\u001b[1;32m      3\u001b[0m \u001b[0mtest\u001b[0m\u001b[0;34m[\u001b[0m\u001b[0;34m'BuySell'\u001b[0m\u001b[0;34m]\u001b[0m \u001b[0;34m=\u001b[0m \u001b[0mtest\u001b[0m\u001b[0;34m[\u001b[0m\u001b[0;34m'BuySell'\u001b[0m\u001b[0;34m]\u001b[0m\u001b[0;34m.\u001b[0m\u001b[0mastype\u001b[0m\u001b[0;34m(\u001b[0m\u001b[0;34m'category'\u001b[0m\u001b[0;34m)\u001b[0m\u001b[0;34m\u001b[0m\u001b[0m\n\u001b[1;32m      4\u001b[0m \u001b[0mtest\u001b[0m\u001b[0;34m[\u001b[0m\u001b[0;34m'IsinIdx'\u001b[0m\u001b[0;34m]\u001b[0m \u001b[0;34m=\u001b[0m \u001b[0mtest\u001b[0m\u001b[0;34m[\u001b[0m\u001b[0;34m'IsinIdx'\u001b[0m\u001b[0;34m]\u001b[0m\u001b[0;34m.\u001b[0m\u001b[0mastype\u001b[0m\u001b[0;34m(\u001b[0m\u001b[0mstr\u001b[0m\u001b[0;34m)\u001b[0m \u001b[0;34m+\u001b[0m \u001b[0;34m'_'\u001b[0m \u001b[0;34m+\u001b[0m \u001b[0mtest\u001b[0m\u001b[0;34m[\u001b[0m\u001b[0;34m'BuySell'\u001b[0m\u001b[0;34m]\u001b[0m\u001b[0;34m.\u001b[0m\u001b[0mastype\u001b[0m\u001b[0;34m(\u001b[0m\u001b[0mstr\u001b[0m\u001b[0;34m)\u001b[0m\u001b[0;34m\u001b[0m\u001b[0m\n\u001b[0;32m----> 5\u001b[0;31m \u001b[0mtest\u001b[0m\u001b[0;34m[\u001b[0m\u001b[0;34m'IsinIdx'\u001b[0m\u001b[0;34m]\u001b[0m \u001b[0;34m=\u001b[0m \u001b[0mtest\u001b[0m\u001b[0;34m[\u001b[0m\u001b[0;34m'IsinIdx'\u001b[0m\u001b[0;34m]\u001b[0m\u001b[0;34m.\u001b[0m\u001b[0mmap\u001b[0m\u001b[0;34m(\u001b[0m\u001b[0;32mlambda\u001b[0m \u001b[0ms\u001b[0m\u001b[0;34m:\u001b[0m \u001b[0;34m'<unknown>'\u001b[0m \u001b[0;32mif\u001b[0m \u001b[0ms\u001b[0m \u001b[0;32mnot\u001b[0m \u001b[0;32min\u001b[0m \u001b[0mencoder_bondbs\u001b[0m\u001b[0;34m.\u001b[0m\u001b[0mclasses_\u001b[0m \u001b[0;32melse\u001b[0m \u001b[0ms\u001b[0m\u001b[0;34m)\u001b[0m\u001b[0;34m\u001b[0m\u001b[0m\n\u001b[0m\u001b[1;32m      6\u001b[0m \u001b[0mencoder_bondbs\u001b[0m\u001b[0;34m.\u001b[0m\u001b[0mclasses_\u001b[0m \u001b[0;34m=\u001b[0m \u001b[0mnp\u001b[0m\u001b[0;34m.\u001b[0m\u001b[0mappend\u001b[0m\u001b[0;34m(\u001b[0m\u001b[0mencoder_bondbs\u001b[0m\u001b[0;34m.\u001b[0m\u001b[0mclasses_\u001b[0m\u001b[0;34m,\u001b[0m \u001b[0;34m'<unknown>'\u001b[0m\u001b[0;34m)\u001b[0m\u001b[0;34m\u001b[0m\u001b[0m\n\u001b[1;32m      7\u001b[0m \u001b[0mtest\u001b[0m\u001b[0;34m[\u001b[0m\u001b[0;34m'IsinIdx'\u001b[0m\u001b[0;34m]\u001b[0m \u001b[0;34m=\u001b[0m \u001b[0mencoder_bondbs\u001b[0m\u001b[0;34m.\u001b[0m\u001b[0mtransform\u001b[0m\u001b[0;34m(\u001b[0m\u001b[0mtest\u001b[0m\u001b[0;34m[\u001b[0m\u001b[0;34m'IsinIdx'\u001b[0m\u001b[0;34m]\u001b[0m\u001b[0;34m)\u001b[0m\u001b[0;34m\u001b[0m\u001b[0m\n",
      "\u001b[0;31mKeyboardInterrupt\u001b[0m: "
     ]
    }
   ],
   "source": [
    "test = pd.read_csv('Challenge_20180423.csv',parse_dates=['DateKey'])\n",
    "test = test.rename({'DateKey':'TradeDateKey'},axis=1)\n",
    "test['BuySell'] = test['BuySell'].astype('category')\n",
    "test['IsinIdx'] = test['IsinIdx'].astype(str) + '_' + test['BuySell'].astype(str)\n",
    "test['IsinIdx'] = encoder_bondbs.transform(test['IsinIdx'])\n",
    "test['TradeDateKey'] = '20180423'\n",
    "test['TradeDateKey'] = pd.to_datetime(test.TradeDateKey)\n",
    "test['year'] = test.TradeDateKey.dt.year\n",
    "test['month'] = test.TradeDateKey.dt.month\n",
    "test['weekofyear'] = test.TradeDateKey.dt.weekofyear\n",
    "test_local = test.drop(['BuySell','TradeDateKey','month','CustomerInterest'],axis=1)\n",
    "test_local['weekofyear'] = 16\n",
    "#test_local = test_local.merge(customer,on=['CustomerIdx'],how='left')\n",
    "#test_local = test_local.merge(bond,on=['IsinIdx'],how='left')\n",
    "filtered = pd.read_csv('Trade.csv',parse_dates=['TradeDateKey'])\n",
    "filtered['BuySell'] = filtered['BuySell'].astype('category')\n",
    "filtered['IsinIdx'] = filtered['IsinIdx'].astype(str) + '_' + filtered['BuySell'].astype(str)\n",
    "filtered['IsinIdx'] = encoder_bondbs.transform(filtered['IsinIdx'])\n",
    "filtered['TradeStatus'] = filtered['TradeStatus'].astype('category')\n",
    "filtered['CustomerInterest'] = filtered['CustomerInterest'].astype('bool')\n",
    "filtered['year'] = filtered.TradeDateKey.dt.year\n",
    "filtered['month'] = filtered.TradeDateKey.dt.month\n",
    "filtered['weekofyear'] = filtered.TradeDateKey.dt.weekofyear\n",
    "filtered.drop(['BuySell'],axis=1,inplace=True)\n",
    "test_local = test_local.merge(filtered[['CustomerIdx','IsinIdx','year','weekofyear','CustomerInterest']],on=['CustomerIdx','IsinIdx','year','weekofyear'],how='left')\n",
    "test_local['CustomerInterest'][test_local.CustomerInterest.isnull()] = False\n",
    "del filtered\n",
    "test_local.head()\n",
    "y_true = test_local.CustomerInterest.astype(int).values\n",
    "test_local = encoder.transform(test_local[predictors_holdings])\n",
    "y_scores = z.predict_proba(test_local)\n",
    "roc_auc_score(y_true, y_scores)"
   ]
  },
  {
   "cell_type": "code",
   "execution_count": 14,
   "metadata": {},
   "outputs": [],
   "source": [
    "test = pd.read_csv('Challenge_20180423.csv',parse_dates=['DateKey'])\n",
    "test = test.rename({'DateKey':'TradeDateKey'},axis=1)\n",
    "test['BuySell'] = test['BuySell'].astype('category')\n",
    "test['TradeDateKey'] = '20180423'\n",
    "test['TradeDateKey'] = pd.to_datetime(test.TradeDateKey)\n",
    "test['year'] = test.TradeDateKey.dt.year\n",
    "test['month'] = test.TradeDateKey.dt.month\n",
    "test['weekofyear'] = test.TradeDateKey.dt.weekofyear\n",
    "test['BuySell'] = encoder_bs.transform(test['BuySell'].astype(str))\n",
    "test_pred = encoder.transform(test[predictors_holdings])\n",
    "test['CustomerInterest'] = z.predict_proba(test_pred)\n",
    "test[['PredictionIdx','CustomerInterest']].to_csv('sub_sam_fm_holdings1_3.csv',index=False)"
   ]
  }
 ],
 "metadata": {
  "kernelspec": {
   "display_name": "Python 2",
   "language": "python",
   "name": "python2"
  },
  "language_info": {
   "codemirror_mode": {
    "name": "ipython",
    "version": 2
   },
   "file_extension": ".py",
   "mimetype": "text/x-python",
   "name": "python",
   "nbconvert_exporter": "python",
   "pygments_lexer": "ipython2",
   "version": "2.7.13"
  }
 },
 "nbformat": 4,
 "nbformat_minor": 1
}
