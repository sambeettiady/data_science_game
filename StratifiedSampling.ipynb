{
 "cells": [
  {
   "cell_type": "code",
   "execution_count": 1,
   "metadata": {},
   "outputs": [],
   "source": [
    "%matplotlib inline\n",
    "import pandas as pd\n",
    "import numpy as np\n",
    "import seaborn as sns\n",
    "import os\n",
    "import gc\n",
    "from IPython.core.display import display, HTML, display_pretty\n",
    "import matplotlib.pyplot as plt\n",
    "from sklearn.model_selection import train_test_split\n",
    "from sklearn.preprocessing import LabelEncoder\n",
    "from sklearn.model_selection import KFold\n",
    "import lightgbm as lgb\n",
    "from imblearn.datasets import make_imbalance\n",
    "os.chdir('/home/sambeet/data/dsg/')\n",
    "import fastFM as fm\n",
    "import time\n",
    "from fastFM import als\n",
    "from sklearn.metrics import roc_auc_score\n",
    "from sklearn.preprocessing import OneHotEncoder\n",
    "from scipy import sparse"
   ]
  },
  {
   "cell_type": "code",
   "execution_count": 2,
   "metadata": {
    "scrolled": true
   },
   "outputs": [
    {
     "data": {
      "text/html": [
       "<div>\n",
       "<style scoped>\n",
       "    .dataframe tbody tr th:only-of-type {\n",
       "        vertical-align: middle;\n",
       "    }\n",
       "\n",
       "    .dataframe tbody tr th {\n",
       "        vertical-align: top;\n",
       "    }\n",
       "\n",
       "    .dataframe thead th {\n",
       "        text-align: right;\n",
       "    }\n",
       "</style>\n",
       "<table border=\"1\" class=\"dataframe\">\n",
       "  <thead>\n",
       "    <tr style=\"text-align: right;\">\n",
       "      <th></th>\n",
       "      <th>CustomerIdx</th>\n",
       "      <th>IsinIdx</th>\n",
       "      <th>BuySell</th>\n",
       "      <th>CustomerInterest</th>\n",
       "      <th>year</th>\n",
       "      <th>weekofyear</th>\n",
       "    </tr>\n",
       "  </thead>\n",
       "  <tbody>\n",
       "    <tr>\n",
       "      <th>0</th>\n",
       "      <td>2789</td>\n",
       "      <td>8478</td>\n",
       "      <td>Sell</td>\n",
       "      <td>True</td>\n",
       "      <td>2016</td>\n",
       "      <td>49</td>\n",
       "    </tr>\n",
       "    <tr>\n",
       "      <th>1</th>\n",
       "      <td>2574</td>\n",
       "      <td>14562</td>\n",
       "      <td>Buy</td>\n",
       "      <td>True</td>\n",
       "      <td>2017</td>\n",
       "      <td>13</td>\n",
       "    </tr>\n",
       "    <tr>\n",
       "      <th>2</th>\n",
       "      <td>2574</td>\n",
       "      <td>4747</td>\n",
       "      <td>Buy</td>\n",
       "      <td>True</td>\n",
       "      <td>2017</td>\n",
       "      <td>16</td>\n",
       "    </tr>\n",
       "    <tr>\n",
       "      <th>3</th>\n",
       "      <td>2574</td>\n",
       "      <td>9885</td>\n",
       "      <td>Sell</td>\n",
       "      <td>True</td>\n",
       "      <td>2017</td>\n",
       "      <td>10</td>\n",
       "    </tr>\n",
       "    <tr>\n",
       "      <th>4</th>\n",
       "      <td>2574</td>\n",
       "      <td>8885</td>\n",
       "      <td>Buy</td>\n",
       "      <td>True</td>\n",
       "      <td>2016</td>\n",
       "      <td>46</td>\n",
       "    </tr>\n",
       "  </tbody>\n",
       "</table>\n",
       "</div>"
      ],
      "text/plain": [
       "   CustomerIdx  IsinIdx BuySell  CustomerInterest  year  weekofyear\n",
       "0         2789     8478    Sell              True  2016          49\n",
       "1         2574    14562     Buy              True  2017          13\n",
       "2         2574     4747     Buy              True  2017          16\n",
       "3         2574     9885    Sell              True  2017          10\n",
       "4         2574     8885     Buy              True  2016          46"
      ]
     },
     "execution_count": 2,
     "metadata": {},
     "output_type": "execute_result"
    }
   ],
   "source": [
    "trade = pd.read_csv('Trade.csv',parse_dates=['TradeDateKey'])\n",
    "trade['BuySell'] = trade['BuySell'].astype('category')\n",
    "trade['TradeStatus'] = trade['TradeStatus'].astype('category')\n",
    "trade['CustomerInterest'] = trade['CustomerInterest'].astype('bool')\n",
    "trade['year'] = trade.TradeDateKey.dt.year\n",
    "trade['month'] = trade.TradeDateKey.dt.month\n",
    "trade['weekofyear'] = trade.TradeDateKey.dt.weekofyear\n",
    "test = trade[['CustomerIdx','IsinIdx','BuySell']].drop_duplicates()\n",
    "trade.drop(['TradeDateKey','NotionalEUR','Price','TradeStatus','month'],axis=1,inplace=True)\n",
    "trade.head()"
   ]
  },
  {
   "cell_type": "code",
   "execution_count": 12,
   "metadata": {},
   "outputs": [],
   "source": [
    "trade = trade[trade.CustomerInterest == True]"
   ]
  },
  {
   "cell_type": "code",
   "execution_count": 4,
   "metadata": {
    "scrolled": true
   },
   "outputs": [
    {
     "name": "stdout",
     "output_type": "stream",
     "text": [
      "2016\n"
     ]
    },
    {
     "name": "stderr",
     "output_type": "stream",
     "text": [
      "/home/sambeet/anaconda2/lib/python2.7/site-packages/ipykernel_launcher.py:17: FutureWarning: Sorting because non-concatenation axis is not aligned. A future version\n",
      "of pandas will change to not sort by default.\n",
      "\n",
      "To accept the future behavior, pass 'sort=True'.\n",
      "\n",
      "To retain the current behavior and silence the warning, pass sort=False\n",
      "\n"
     ]
    },
    {
     "name": "stdout",
     "output_type": "stream",
     "text": [
      "2017\n",
      "2018\n",
      "1.4540100654 minutes\n"
     ]
    }
   ],
   "source": [
    "synth_data = pd.DataFrame()\n",
    "yearlist = list(np.unique(trade.year))\n",
    "weekofyearlist = list(np.unique(trade.weekofyear))\n",
    "start = time.time()\n",
    "for year in yearlist:\n",
    "    print year\n",
    "    for weekofyear in weekofyearlist:\n",
    "        if year == 2017 and weekofyear == 53:\n",
    "            continue\n",
    "        elif year == 2018 and weekofyear >= 17:\n",
    "            continue\n",
    "        else:\n",
    "            temp = test.sample(n=125000).copy()\n",
    "            temp['year'] = year\n",
    "            temp['weekofyear'] = weekofyear\n",
    "            temp['CustomerInterest'] = False\n",
    "            temp = pd.concat([trade[(trade.year == )]\n",
    "            synth_data = pd.concat([synth_data,temp],axis=0)\n",
    "end = time.time()\n",
    "print (end - start)/60,'minutes'"
   ]
  },
  {
   "cell_type": "code",
   "execution_count": 5,
   "metadata": {},
   "outputs": [
    {
     "data": {
      "text/plain": [
       "(19140805, 6)"
      ]
     },
     "execution_count": 5,
     "metadata": {},
     "output_type": "execute_result"
    }
   ],
   "source": [
    "trade.shape"
   ]
  },
  {
   "cell_type": "code",
   "execution_count": 6,
   "metadata": {},
   "outputs": [
    {
     "data": {
      "text/plain": [
       "(19012426, 6)"
      ]
     },
     "execution_count": 6,
     "metadata": {},
     "output_type": "execute_result"
    }
   ],
   "source": [
    "trade = trade[~((trade.year == 2018) & (trade.weekofyear >= 16))].reset_index(drop=True)\n",
    "del temp,test\n",
    "gc.collect()\n",
    "trade.shape"
   ]
  },
  {
   "cell_type": "code",
   "execution_count": 7,
   "metadata": {
    "scrolled": false
   },
   "outputs": [
    {
     "data": {
      "text/plain": [
       "(18206353, 6)"
      ]
     },
     "execution_count": 7,
     "metadata": {},
     "output_type": "execute_result"
    }
   ],
   "source": [
    "trade = trade.groupby(['CustomerIdx','IsinIdx','BuySell','year','weekofyear'])['CustomerInterest'].sum().reset_index()\n",
    "trade['CustomerInterest'] = trade.CustomerInterest >= 1\n",
    "trade.shape"
   ]
  },
  {
   "cell_type": "code",
   "execution_count": 8,
   "metadata": {},
   "outputs": [
    {
     "data": {
      "text/plain": [
       "0.0964191455586959"
      ]
     },
     "execution_count": 8,
     "metadata": {},
     "output_type": "execute_result"
    }
   ],
   "source": [
    "encoder_bs = LabelEncoder()\n",
    "encoder_bs.fit(trade['BuySell'].astype(str))\n",
    "trade['BuySell'] = encoder_bs.transform(trade['BuySell'].astype(str))\n",
    "trade.CustomerInterest.mean()"
   ]
  },
  {
   "cell_type": "code",
   "execution_count": 9,
   "metadata": {},
   "outputs": [
    {
     "name": "stdout",
     "output_type": "stream",
     "text": [
      "Transforming Sector...\n",
      "Transforming Subsector...\n",
      "Transforming CustomerRegion...\n",
      "Transforming Country...\n",
      "Transforming Seniority...\n",
      "Transforming Currency...\n",
      "Transforming ActivityGroup...\n",
      "Transforming BondRegion...\n",
      "Transforming Activity...\n",
      "Transforming RiskCaptain...\n",
      "Transforming Owner...\n",
      "Transforming CompositeRating...\n",
      "Transforming IndustrySector...\n",
      "Transforming IndustrySubgroup...\n",
      "Transforming MarketIssue...\n",
      "Transforming CouponType...\n"
     ]
    }
   ],
   "source": [
    "#def one_hot_encode(data,categorical_columns):\n",
    "#    data = pd.get_dummies(data,columns=categorical_columns,sparse=False,dtype=np.int8)\n",
    "#    return data    \n",
    "customer = pd.read_csv('Customer.csv')\n",
    "customer = customer.rename({'Region':'CustomerRegion'},axis=1)\n",
    "categorical_columns = ['Sector','Subsector','CustomerRegion','Country']\n",
    "for col in categorical_columns:\n",
    "    customer[col] = customer[col].astype('category')\n",
    "    print 'Transforming {}...'.format(col)\n",
    "    encoder = LabelEncoder()\n",
    "    encoder.fit(customer[col].astype(str))\n",
    "    customer[col] = encoder.transform(customer[col].astype(str))\n",
    "#customer = one_hot_encode(customer,categorical_columns)\n",
    "bond = pd.read_csv('Isin.csv',parse_dates=['ActualMaturityDateKey', 'IssueDateKey'])\n",
    "bond = bond.rename({'Region':'BondRegion'},axis=1)\n",
    "categorical_columns = ['Seniority','Currency','ActivityGroup','BondRegion','Activity',\n",
    "       'RiskCaptain','Owner','CompositeRating','IndustrySector','IndustrySubgroup','MarketIssue','CouponType']\n",
    "for col in categorical_columns:\n",
    "    bond[col] = bond[col].astype('category')\n",
    "    print 'Transforming {}...'.format(col)\n",
    "    encoder = LabelEncoder()\n",
    "    encoder.fit(bond[col].astype(str))\n",
    "    bond[col] = encoder.transform(bond[col].astype(str))\n",
    "#bond = one_hot_encode(bond,categorical_columns)"
   ]
  },
  {
   "cell_type": "code",
   "execution_count": 10,
   "metadata": {},
   "outputs": [
    {
     "data": {
      "text/plain": [
       "168"
      ]
     },
     "execution_count": 10,
     "metadata": {},
     "output_type": "execute_result"
    }
   ],
   "source": [
    "trade = trade.merge(customer,on=['CustomerIdx'],how='left')\n",
    "trade = trade.merge(bond,on=['IsinIdx'],how='left')\n",
    "gc.collect()"
   ]
  },
  {
   "cell_type": "code",
   "execution_count": 13,
   "metadata": {
    "scrolled": true
   },
   "outputs": [
    {
     "data": {
      "text/html": [
       "<div>\n",
       "<style scoped>\n",
       "    .dataframe tbody tr th:only-of-type {\n",
       "        vertical-align: middle;\n",
       "    }\n",
       "\n",
       "    .dataframe tbody tr th {\n",
       "        vertical-align: top;\n",
       "    }\n",
       "\n",
       "    .dataframe thead th {\n",
       "        text-align: right;\n",
       "    }\n",
       "</style>\n",
       "<table border=\"1\" class=\"dataframe\">\n",
       "  <thead>\n",
       "    <tr style=\"text-align: right;\">\n",
       "      <th></th>\n",
       "      <th>CustomerIdx</th>\n",
       "      <th>IsinIdx</th>\n",
       "      <th>BuySell</th>\n",
       "      <th>CustomerInterest</th>\n",
       "      <th>year</th>\n",
       "      <th>weekofyear</th>\n",
       "    </tr>\n",
       "  </thead>\n",
       "  <tbody>\n",
       "    <tr>\n",
       "      <th>0</th>\n",
       "      <td>2789</td>\n",
       "      <td>8478</td>\n",
       "      <td>Sell</td>\n",
       "      <td>True</td>\n",
       "      <td>2016</td>\n",
       "      <td>49</td>\n",
       "    </tr>\n",
       "    <tr>\n",
       "      <th>1</th>\n",
       "      <td>2574</td>\n",
       "      <td>14562</td>\n",
       "      <td>Buy</td>\n",
       "      <td>True</td>\n",
       "      <td>2017</td>\n",
       "      <td>13</td>\n",
       "    </tr>\n",
       "    <tr>\n",
       "      <th>2</th>\n",
       "      <td>2574</td>\n",
       "      <td>4747</td>\n",
       "      <td>Buy</td>\n",
       "      <td>True</td>\n",
       "      <td>2017</td>\n",
       "      <td>16</td>\n",
       "    </tr>\n",
       "    <tr>\n",
       "      <th>3</th>\n",
       "      <td>2574</td>\n",
       "      <td>9885</td>\n",
       "      <td>Sell</td>\n",
       "      <td>True</td>\n",
       "      <td>2017</td>\n",
       "      <td>10</td>\n",
       "    </tr>\n",
       "    <tr>\n",
       "      <th>4</th>\n",
       "      <td>2574</td>\n",
       "      <td>8885</td>\n",
       "      <td>Buy</td>\n",
       "      <td>True</td>\n",
       "      <td>2016</td>\n",
       "      <td>46</td>\n",
       "    </tr>\n",
       "  </tbody>\n",
       "</table>\n",
       "</div>"
      ],
      "text/plain": [
       "   CustomerIdx  IsinIdx BuySell  CustomerInterest  year  weekofyear\n",
       "0         2789     8478    Sell              True  2016          49\n",
       "1         2574    14562     Buy              True  2017          13\n",
       "2         2574     4747     Buy              True  2017          16\n",
       "3         2574     9885    Sell              True  2017          10\n",
       "4         2574     8885     Buy              True  2016          46"
      ]
     },
     "execution_count": 13,
     "metadata": {},
     "output_type": "execute_result"
    }
   ],
   "source": [
    "trade.head()"
   ]
  },
  {
   "cell_type": "code",
   "execution_count": 13,
   "metadata": {},
   "outputs": [
    {
     "data": {
      "text/html": [
       "<div>\n",
       "<style scoped>\n",
       "    .dataframe tbody tr th:only-of-type {\n",
       "        vertical-align: middle;\n",
       "    }\n",
       "\n",
       "    .dataframe tbody tr th {\n",
       "        vertical-align: top;\n",
       "    }\n",
       "\n",
       "    .dataframe thead th {\n",
       "        text-align: right;\n",
       "    }\n",
       "</style>\n",
       "<table border=\"1\" class=\"dataframe\">\n",
       "  <thead>\n",
       "    <tr style=\"text-align: right;\">\n",
       "      <th></th>\n",
       "      <th>CustomerIdx</th>\n",
       "      <th>IsinIdx</th>\n",
       "      <th>BuySell</th>\n",
       "      <th>year</th>\n",
       "      <th>weekofyear</th>\n",
       "      <th>CustomerInterest</th>\n",
       "      <th>Sector</th>\n",
       "      <th>Subsector</th>\n",
       "      <th>CustomerRegion</th>\n",
       "      <th>Country</th>\n",
       "      <th>...</th>\n",
       "      <th>Activity</th>\n",
       "      <th>RiskCaptain</th>\n",
       "      <th>Owner</th>\n",
       "      <th>CompositeRating</th>\n",
       "      <th>IndustrySector</th>\n",
       "      <th>IndustrySubgroup</th>\n",
       "      <th>MarketIssue</th>\n",
       "      <th>IssuedAmount</th>\n",
       "      <th>CouponType</th>\n",
       "      <th>MaturityPeriod</th>\n",
       "    </tr>\n",
       "  </thead>\n",
       "  <tbody>\n",
       "    <tr>\n",
       "      <th>0</th>\n",
       "      <td>0</td>\n",
       "      <td>16471</td>\n",
       "      <td>0</td>\n",
       "      <td>2016</td>\n",
       "      <td>1</td>\n",
       "      <td>False</td>\n",
       "      <td>0</td>\n",
       "      <td>24</td>\n",
       "      <td>1</td>\n",
       "      <td>34</td>\n",
       "      <td>...</td>\n",
       "      <td>2</td>\n",
       "      <td>1</td>\n",
       "      <td>0</td>\n",
       "      <td>11</td>\n",
       "      <td>7</td>\n",
       "      <td>247</td>\n",
       "      <td>5</td>\n",
       "      <td>6.311735</td>\n",
       "      <td>0</td>\n",
       "      <td>5</td>\n",
       "    </tr>\n",
       "    <tr>\n",
       "      <th>1</th>\n",
       "      <td>0</td>\n",
       "      <td>16471</td>\n",
       "      <td>0</td>\n",
       "      <td>2016</td>\n",
       "      <td>37</td>\n",
       "      <td>False</td>\n",
       "      <td>0</td>\n",
       "      <td>24</td>\n",
       "      <td>1</td>\n",
       "      <td>34</td>\n",
       "      <td>...</td>\n",
       "      <td>2</td>\n",
       "      <td>1</td>\n",
       "      <td>0</td>\n",
       "      <td>11</td>\n",
       "      <td>7</td>\n",
       "      <td>247</td>\n",
       "      <td>5</td>\n",
       "      <td>6.311735</td>\n",
       "      <td>0</td>\n",
       "      <td>5</td>\n",
       "    </tr>\n",
       "    <tr>\n",
       "      <th>2</th>\n",
       "      <td>0</td>\n",
       "      <td>16471</td>\n",
       "      <td>0</td>\n",
       "      <td>2016</td>\n",
       "      <td>39</td>\n",
       "      <td>False</td>\n",
       "      <td>0</td>\n",
       "      <td>24</td>\n",
       "      <td>1</td>\n",
       "      <td>34</td>\n",
       "      <td>...</td>\n",
       "      <td>2</td>\n",
       "      <td>1</td>\n",
       "      <td>0</td>\n",
       "      <td>11</td>\n",
       "      <td>7</td>\n",
       "      <td>247</td>\n",
       "      <td>5</td>\n",
       "      <td>6.311735</td>\n",
       "      <td>0</td>\n",
       "      <td>5</td>\n",
       "    </tr>\n",
       "    <tr>\n",
       "      <th>3</th>\n",
       "      <td>0</td>\n",
       "      <td>16471</td>\n",
       "      <td>0</td>\n",
       "      <td>2017</td>\n",
       "      <td>20</td>\n",
       "      <td>True</td>\n",
       "      <td>0</td>\n",
       "      <td>24</td>\n",
       "      <td>1</td>\n",
       "      <td>34</td>\n",
       "      <td>...</td>\n",
       "      <td>2</td>\n",
       "      <td>1</td>\n",
       "      <td>0</td>\n",
       "      <td>11</td>\n",
       "      <td>7</td>\n",
       "      <td>247</td>\n",
       "      <td>5</td>\n",
       "      <td>6.311735</td>\n",
       "      <td>0</td>\n",
       "      <td>5</td>\n",
       "    </tr>\n",
       "    <tr>\n",
       "      <th>4</th>\n",
       "      <td>0</td>\n",
       "      <td>16471</td>\n",
       "      <td>0</td>\n",
       "      <td>2017</td>\n",
       "      <td>52</td>\n",
       "      <td>False</td>\n",
       "      <td>0</td>\n",
       "      <td>24</td>\n",
       "      <td>1</td>\n",
       "      <td>34</td>\n",
       "      <td>...</td>\n",
       "      <td>2</td>\n",
       "      <td>1</td>\n",
       "      <td>0</td>\n",
       "      <td>11</td>\n",
       "      <td>7</td>\n",
       "      <td>247</td>\n",
       "      <td>5</td>\n",
       "      <td>6.311735</td>\n",
       "      <td>0</td>\n",
       "      <td>5</td>\n",
       "    </tr>\n",
       "  </tbody>\n",
       "</table>\n",
       "<p>5 rows × 25 columns</p>\n",
       "</div>"
      ],
      "text/plain": [
       "   CustomerIdx  IsinIdx  BuySell  year  weekofyear  CustomerInterest  Sector  \\\n",
       "0            0    16471        0  2016           1             False       0   \n",
       "1            0    16471        0  2016          37             False       0   \n",
       "2            0    16471        0  2016          39             False       0   \n",
       "3            0    16471        0  2017          20              True       0   \n",
       "4            0    16471        0  2017          52             False       0   \n",
       "\n",
       "   Subsector  CustomerRegion  Country       ...        Activity  RiskCaptain  \\\n",
       "0         24               1       34       ...               2            1   \n",
       "1         24               1       34       ...               2            1   \n",
       "2         24               1       34       ...               2            1   \n",
       "3         24               1       34       ...               2            1   \n",
       "4         24               1       34       ...               2            1   \n",
       "\n",
       "   Owner  CompositeRating  IndustrySector  IndustrySubgroup  MarketIssue  \\\n",
       "0      0               11               7               247            5   \n",
       "1      0               11               7               247            5   \n",
       "2      0               11               7               247            5   \n",
       "3      0               11               7               247            5   \n",
       "4      0               11               7               247            5   \n",
       "\n",
       "   IssuedAmount  CouponType  MaturityPeriod  \n",
       "0      6.311735           0               5  \n",
       "1      6.311735           0               5  \n",
       "2      6.311735           0               5  \n",
       "3      6.311735           0               5  \n",
       "4      6.311735           0               5  \n",
       "\n",
       "[5 rows x 25 columns]"
      ]
     },
     "execution_count": 13,
     "metadata": {},
     "output_type": "execute_result"
    }
   ],
   "source": [
    "trade['MaturityPeriod'] = ((trade['ActualMaturityDateKey'] - trade['IssueDateKey'])/365.).dt.days\n",
    "trade['IssuedAmount'] = np.log1p(trade.IssuedAmount/1000000)\n",
    "trade.drop(['ActualMaturityDateKey','IssueDateKey'],axis=1,inplace=True)\n",
    "trade.head()"
   ]
  },
  {
   "cell_type": "code",
   "execution_count": 14,
   "metadata": {
    "scrolled": true
   },
   "outputs": [
    {
     "name": "stdout",
     "output_type": "stream",
     "text": [
      "<class 'pandas.core.frame.DataFrame'>\n",
      "Int64Index: 18206353 entries, 0 to 18206352\n",
      "Data columns (total 25 columns):\n",
      "CustomerIdx         int16\n",
      "IsinIdx             int16\n",
      "BuySell             int8\n",
      "year                int16\n",
      "weekofyear          int8\n",
      "CustomerInterest    bool\n",
      "Sector              int8\n",
      "Subsector           int8\n",
      "CustomerRegion      int8\n",
      "Country             int8\n",
      "TickerIdx           int16\n",
      "Seniority           int8\n",
      "Currency            int8\n",
      "ActivityGroup       int8\n",
      "BondRegion          int8\n",
      "Activity            int8\n",
      "RiskCaptain         int8\n",
      "Owner               int8\n",
      "CompositeRating     int8\n",
      "IndustrySector      int8\n",
      "IndustrySubgroup    int16\n",
      "MarketIssue         int8\n",
      "IssuedAmount        float32\n",
      "CouponType          int8\n",
      "MaturityPeriod      int16\n",
      "dtypes: bool(1), float32(1), int16(6), int8(17)\n",
      "memory usage: 729.2 MB\n"
     ]
    }
   ],
   "source": [
    "categorical_holdings = ['CustomerIdx','IsinIdx','BuySell','year','weekofyear','Sector','Subsector','CustomerRegion',\n",
    "                        'Country','TickerIdx','Seniority','Currency','ActivityGroup','BondRegion','Activity',\n",
    "                        'RiskCaptain','Owner','CompositeRating','IndustrySector','IndustrySubgroup','MarketIssue',\n",
    "                        'CouponType']\n",
    "predictors_holdings = list(trade.columns)\n",
    "predictors_holdings.remove('CustomerInterest')\n",
    "target_holdings = 'CustomerInterest'\n",
    "float_type = ['IssuedAmount']\n",
    "for col in predictors_holdings:\n",
    "    if col in float_type:\n",
    "        trade[col] = pd.to_numeric(trade[col],downcast='float')\n",
    "    else:\n",
    "        trade[col] = pd.to_numeric(trade[col],downcast='integer')\n",
    "trade.info()"
   ]
  },
  {
   "cell_type": "code",
   "execution_count": null,
   "metadata": {},
   "outputs": [
    {
     "name": "stdout",
     "output_type": "stream",
     "text": [
      "CustomerIdx\n",
      "IsinIdx\n",
      "BuySell\n",
      "year\n",
      "weekofyear\n",
      "Sector\n",
      "Subsector\n",
      "CustomerRegion\n",
      "Country\n",
      "TickerIdx\n",
      "Seniority\n",
      "Currency\n",
      "ActivityGroup\n",
      "BondRegion\n",
      "Activity\n",
      "RiskCaptain\n",
      "Owner\n",
      "CompositeRating\n",
      "IndustrySector\n"
     ]
    }
   ],
   "source": [
    "for i,col in zip(range(1,len(predictors_holdings)+1),list(predictors_holdings)):\n",
    "    print col\n",
    "    if col in categorical_holdings:\n",
    "        encoder = OneHotEncoder(sparse=True,dtype=np.int8)\n",
    "        encoder.fit(pd.DataFrame(trade[col]))\n",
    "        if i == 1:\n",
    "            csr_mat = encoder.transform(pd.DataFrame(trade[col]))\n",
    "        else:\n",
    "            temp = encoder.transform(pd.DataFrame(trade[col]))\n",
    "            csr_mat = sparse.hstack([csr_mat,temp],format='csr')"
   ]
  },
  {
   "cell_type": "code",
   "execution_count": null,
   "metadata": {},
   "outputs": [],
   "source": [
    "test = pd.read_csv('Challenge_20180423.csv',parse_dates=['DateKey'])\n",
    "test = test.rename({'DateKey':'TradeDateKey'},axis=1)\n",
    "test['BuySell'] = test['BuySell'].astype('category')\n",
    "test['TradeDateKey'] = '20180423'\n",
    "test['TradeDateKey'] = pd.to_datetime(test.TradeDateKey)\n",
    "test['year'] = test.TradeDateKey.dt.year\n",
    "test['month'] = test.TradeDateKey.dt.month\n",
    "test['weekofyear'] = test.TradeDateKey.dt.weekofyear\n",
    "test['BuySell'] = encoder_bs.transform(test['BuySell'].astype(str))\n",
    "test = test.merge(customer,on=['CustomerIdx'],how='left')\n",
    "test = test.merge(bond,on=['IsinIdx'],how='left')\n",
    "test['MaturityPeriod'] = ((test['ActualMaturityDateKey'] - test['IssueDateKey'])/365.).dt.days\n",
    "test['IssuedAmount'] = np.log1p(test.IssuedAmount/1000000)\n",
    "test.drop(['ActualMaturityDateKey','IssueDateKey'],axis=1,inplace=True)\n",
    "#test['CustomerInterest'] = z.predict_proba(test_pred)\n",
    "#test[['PredictionIdx','CustomerInterest']].to_csv('sub_sam_fm_holdings1_3.csv',index=False)"
   ]
  },
  {
   "cell_type": "code",
   "execution_count": 11,
   "metadata": {},
   "outputs": [
    {
     "name": "stdout",
     "output_type": "stream",
     "text": [
      "<class 'pandas.core.frame.DataFrame'>\n",
      "Int64Index: 18205358 entries, 0 to 18205357\n",
      "Data columns (total 25 columns):\n",
      "CustomerIdx         int64\n",
      "IsinIdx             int64\n",
      "BuySell             int64\n",
      "year                int64\n",
      "weekofyear          int64\n",
      "CustomerInterest    bool\n",
      "Sector              int64\n",
      "Subsector           int64\n",
      "CustomerRegion      int64\n",
      "Country             int64\n",
      "TickerIdx           int64\n",
      "Seniority           int64\n",
      "Currency            int64\n",
      "ActivityGroup       int64\n",
      "BondRegion          int64\n",
      "Activity            int64\n",
      "RiskCaptain         int64\n",
      "Owner               int64\n",
      "CompositeRating     int64\n",
      "IndustrySector      int64\n",
      "IndustrySubgroup    int64\n",
      "MarketIssue         int64\n",
      "IssuedAmount        float64\n",
      "CouponType          int64\n",
      "MaturityPeriod      int64\n",
      "dtypes: bool(1), float64(1), int64(23)\n",
      "memory usage: 3.4 GB\n"
     ]
    }
   ],
   "source": [
    "trade.info()"
   ]
  },
  {
   "cell_type": "code",
   "execution_count": 12,
   "metadata": {},
   "outputs": [
    {
     "name": "stdout",
     "output_type": "stream",
     "text": [
      "<class 'pandas.core.frame.DataFrame'>\n",
      "Int64Index: 18205358 entries, 0 to 18205357\n",
      "Data columns (total 25 columns):\n",
      "CustomerIdx         int16\n",
      "IsinIdx             int16\n",
      "BuySell             int8\n",
      "year                int16\n",
      "weekofyear          int8\n",
      "CustomerInterest    bool\n",
      "Sector              int8\n",
      "Subsector           int8\n",
      "CustomerRegion      int8\n",
      "Country             int8\n",
      "TickerIdx           int16\n",
      "Seniority           int8\n",
      "Currency            int8\n",
      "ActivityGroup       int8\n",
      "BondRegion          int8\n",
      "Activity            int8\n",
      "RiskCaptain         int8\n",
      "Owner               int8\n",
      "CompositeRating     int8\n",
      "IndustrySector      int8\n",
      "IndustrySubgroup    int16\n",
      "MarketIssue         int8\n",
      "IssuedAmount        float32\n",
      "CouponType          int8\n",
      "MaturityPeriod      int16\n",
      "dtypes: bool(1), float32(1), int16(6), int8(17)\n",
      "memory usage: 729.2 MB\n"
     ]
    }
   ],
   "source": []
  },
  {
   "cell_type": "code",
   "execution_count": 13,
   "metadata": {
    "scrolled": false
   },
   "outputs": [
    {
     "name": "stdout",
     "output_type": "stream",
     "text": [
      "(['CustomerIdx', 'IsinIdx', 'BuySell', 'year', 'weekofyear', 'Sector', 'Subsector', 'CustomerRegion', 'Country', 'TickerIdx', 'Seniority', 'Currency', 'ActivityGroup', 'BondRegion', 'Activity', 'RiskCaptain', 'Owner', 'CompositeRating', 'IndustrySector', 'IndustrySubgroup', 'MarketIssue', 'IssuedAmount', 'CouponType', 'MaturityPeriod'], 24, ['CustomerIdx', 'IsinIdx', 'BuySell', 'year', 'weekofyear', 'Sector', 'Subsector', 'CustomerRegion', 'Country', 'TickerIdx', 'Seniority', 'Currency', 'ActivityGroup', 'BondRegion', 'Activity', 'RiskCaptain', 'Owner', 'CompositeRating', 'IndustrySector', 'IndustrySubgroup', 'MarketIssue', 'CouponType'], 22, 18205358)\n"
     ]
    }
   ],
   "source": [
    "print(predictors_holdings,len(predictors_holdings),categorical_holdings,len(categorical_holdings),trade.shape[0])"
   ]
  },
  {
   "cell_type": "code",
   "execution_count": 14,
   "metadata": {},
   "outputs": [],
   "source": [
    "one_hot_encoded_training_predictors = pd.get_dummies(trade[predictors_holdings],columns=categorical_holdings,sparse=True,dtype=np.int8)"
   ]
  },
  {
   "cell_type": "code",
   "execution_count": 15,
   "metadata": {},
   "outputs": [],
   "source": [
    "import scipy.sparse as sp\n",
    "one_hot_encoded_training_predictors = one_hot_encoded_training_predictors.to_sparse()"
   ]
  },
  {
   "cell_type": "code",
   "execution_count": 16,
   "metadata": {},
   "outputs": [],
   "source": [
    "one_hot_encoded_training_predictors = one_hot_encoded_training_predictors.to_coo()"
   ]
  },
  {
   "cell_type": "code",
   "execution_count": 17,
   "metadata": {},
   "outputs": [],
   "source": [
    "one_hot_encoded_training_predictors = one_hot_encoded_training_predictors.tocsr()"
   ]
  },
  {
   "cell_type": "markdown",
   "metadata": {},
   "source": [
    "categorical_indices = np.array([True if col in categorical_holdings else False for col in predictors_holdings])\n",
    "encoder = OneHotEncoder(categorical_features=categorical_indices,dtype=np.int8,sparse=True)\n",
    "encoder.fit(trade[predictors_holdings])"
   ]
  },
  {
   "cell_type": "code",
   "execution_count": null,
   "metadata": {},
   "outputs": [],
   "source": [
    "X_train, X_test, y_train, y_test = train_test_split(one_hot_encoded_training_predictors, trade[target_holdings])\n",
    "y_train = y_train.astype(int).values\n",
    "y_test = y_test.astype(int).values\n",
    "y_train[y_train == 0] = -1\n",
    "#X_train = encoder.transform(X_train)\n",
    "#X_test = encoder.transform(X_test)"
   ]
  },
  {
   "cell_type": "code",
   "execution_count": null,
   "metadata": {},
   "outputs": [],
   "source": [
    "y_train"
   ]
  },
  {
   "cell_type": "code",
   "execution_count": null,
   "metadata": {
    "scrolled": true
   },
   "outputs": [],
   "source": [
    "n_iter = 50\n",
    "step_size = 1\n",
    "start = time.time()\n",
    "auc_train = []\n",
    "auc_test = []\n",
    "z = als.FMClassification(n_iter=0, l2_reg_w=0.1, l2_reg_V=0.1, rank=4)\n",
    "z.fit(X_train, y_train)\n",
    "for i in range(n_iter):\n",
    "    print 'Training Iteration #',i+1\n",
    "    z.fit(X_train, y_train, n_more_iter=step_size)\n",
    "    train_auc = roc_auc_score(y_train,z.predict_proba(X_train))\n",
    "    test_auc = roc_auc_score(y_test,z.predict_proba(X_test))\n",
    "    auc_train.append(train_auc)\n",
    "    auc_test.append(test_auc)\n",
    "    print 'Train AUC:',train_auc,'Test AUC:',test_auc\n",
    "end = time.time()\n",
    "print (end - start)/60, ' minutes'"
   ]
  },
  {
   "cell_type": "code",
   "execution_count": 32,
   "metadata": {},
   "outputs": [
    {
     "data": {
      "text/plain": [
       "0"
      ]
     },
     "execution_count": 32,
     "metadata": {},
     "output_type": "execute_result"
    }
   ],
   "source": [
    "z.n_iter"
   ]
  },
  {
   "cell_type": "code",
   "execution_count": 28,
   "metadata": {
    "scrolled": false
   },
   "outputs": [
    {
     "data": {
      "text/plain": [
       "<matplotlib.legend.Legend at 0x7f86fa20c3d0>"
      ]
     },
     "execution_count": 28,
     "metadata": {},
     "output_type": "execute_result"
    },
    {
     "data": {
      "image/png": "[encoded data removed]",
      "text/plain": [
       "<matplotlib.figure.Figure at 0x7f86c7f7c150>"
      ]
     },
     "metadata": {},
     "output_type": "display_data"
    }
   ],
   "source": [
    "from matplotlib import pyplot as plt\n",
    "fig, axes = plt.subplots(ncols=1, figsize=(15, 10))\n",
    "x = np.arange(1, n_iter+1) * step_size\n",
    "with plt.style.context('fivethirtyeight'):\n",
    "    axes.plot(x, auc_train, label='AUC-train', color='r', ls=\"--\")\n",
    "    axes.plot(x, auc_test, label='AUC-test', color='r')\n",
    "axes.set_ylabel('AUC', color='r')\n",
    "axes.legend()"
   ]
  },
  {
   "cell_type": "markdown",
   "metadata": {
    "scrolled": false
   },
   "source": [
    "encoder = OneHotEncoder().fit(trade[predictors_holdings])\n",
    "kf = KFold(n_splits=5,shuffle=True,random_state=37)\n",
    "kf.get_n_splits(trade)\n",
    "for train_index, test_index in kf.split(trade):\n",
    "    X_train = trade.loc[train_index,predictors_holdings]\n",
    "    X_test = trade.loc[test_index,predictors_holdings]\n",
    "    y_train = trade.loc[train_index,target_holdings]\n",
    "    y_test = trade.loc[test_index,target_holdings]\n",
    "    y_train = y_train.astype(int).values.squeeze()\n",
    "    y_test = y_test.astype(int).values.squeeze()\n",
    "    y_train[y_train == 0] = -1\n",
    "    X_train = encoder.transform(X_train)\n",
    "    X_test = encoder.transform(X_test)\n",
    "    print 'Starting training on new fold!'\n",
    "    z = als.FMClassification(l2_reg_w=0.1, l2_reg_V=0.1, rank=4,n_iter=25)\n",
    "    z.fit(X_train,y_train)\n",
    "    y_pred_train = z.predict_proba(X_train)\n",
    "    y_pred_test = z.predict_proba(X_test)\n",
    "    y_train[y_train == -1] = 0\n",
    "    print 'Train AUC: ',roc_auc_score(y_train,y_pred_train)\n",
    "    print 'Test AUC: ',roc_auc_score(y_test,y_pred_test)"
   ]
  },
  {
   "cell_type": "code",
   "execution_count": 13,
   "metadata": {},
   "outputs": [
    {
     "name": "stderr",
     "output_type": "stream",
     "text": [
      "/home/sambeet/anaconda2/lib/python2.7/site-packages/ipykernel_launcher.py:23: SettingWithCopyWarning: \n",
      "A value is trying to be set on a copy of a slice from a DataFrame\n",
      "\n",
      "See the caveats in the documentation: http://pandas.pydata.org/pandas-docs/stable/indexing.html#indexing-view-versus-copy\n"
     ]
    },
    {
     "data": {
      "text/plain": [
       "0.5621202132980729"
      ]
     },
     "execution_count": 13,
     "metadata": {},
     "output_type": "execute_result"
    }
   ],
   "source": [
    "test = pd.read_csv('Challenge_20180423.csv',parse_dates=['DateKey'])\n",
    "test = test.rename({'DateKey':'TradeDateKey'},axis=1)\n",
    "test['BuySell'] = test['BuySell'].astype('category')\n",
    "test['TradeDateKey'] = '20180423'\n",
    "test['TradeDateKey'] = pd.to_datetime(test.TradeDateKey)\n",
    "test['year'] = test.TradeDateKey.dt.year\n",
    "test['month'] = test.TradeDateKey.dt.month\n",
    "test['weekofyear'] = test.TradeDateKey.dt.weekofyear\n",
    "test['BuySell'] = encoder_bs.transform(test['BuySell'].astype(str))\n",
    "test_local = test.drop(['TradeDateKey','month','CustomerInterest'],axis=1)\n",
    "test_local['weekofyear'] = 16\n",
    "#test_local = test_local.merge(customer,on=['CustomerIdx'],how='left')\n",
    "#test_local = test_local.merge(bond,on=['IsinIdx'],how='left')\n",
    "filtered = pd.read_csv('Trade.csv',parse_dates=['TradeDateKey'])\n",
    "filtered['BuySell'] = filtered['BuySell'].astype('category')\n",
    "filtered['TradeStatus'] = filtered['TradeStatus'].astype('category')\n",
    "filtered['CustomerInterest'] = filtered['CustomerInterest'].astype('bool')\n",
    "filtered['year'] = filtered.TradeDateKey.dt.year\n",
    "filtered['month'] = filtered.TradeDateKey.dt.month\n",
    "filtered['weekofyear'] = filtered.TradeDateKey.dt.weekofyear\n",
    "filtered['BuySell'] = encoder_bs.transform(filtered['BuySell'].astype(str))\n",
    "test_local = test_local.merge(filtered[['CustomerIdx','IsinIdx','BuySell','year','weekofyear','CustomerInterest']],on=['CustomerIdx','IsinIdx','BuySell','year','weekofyear'],how='left')\n",
    "test_local['CustomerInterest'][test_local.CustomerInterest.isnull()] = False\n",
    "del filtered\n",
    "test_local.head()\n",
    "y_true = test_local.CustomerInterest.astype(int).values\n",
    "test_local = encoder.transform(test_local[predictors_holdings])\n",
    "y_scores = z.predict_proba(test_local)\n",
    "roc_auc_score(y_true, y_scores)"
   ]
  },
  {
   "cell_type": "code",
   "execution_count": 14,
   "metadata": {},
   "outputs": [],
   "source": [
    "test = pd.read_csv('Challenge_20180423.csv',parse_dates=['DateKey'])\n",
    "test = test.rename({'DateKey':'TradeDateKey'},axis=1)\n",
    "test['BuySell'] = test['BuySell'].astype('category')\n",
    "test['TradeDateKey'] = '20180423'\n",
    "test['TradeDateKey'] = pd.to_datetime(test.TradeDateKey)\n",
    "test['year'] = test.TradeDateKey.dt.year\n",
    "test['month'] = test.TradeDateKey.dt.month\n",
    "test['weekofyear'] = test.TradeDateKey.dt.weekofyear\n",
    "test['BuySell'] = encoder_bs.transform(test['BuySell'].astype(str))\n",
    "test_pred = encoder.transform(test[predictors_holdings])\n",
    "test['CustomerInterest'] = z.predict_proba(test_pred)\n",
    "test[['PredictionIdx','CustomerInterest']].to_csv('sub_sam_fm_holdings1_3.csv',index=False)"
   ]
  }
 ],
 "metadata": {
  "kernelspec": {
   "display_name": "Python 2",
   "language": "python",
   "name": "python2"
  },
  "language_info": {
   "codemirror_mode": {
    "name": "ipython",
    "version": 2
   },
   "file_extension": ".py",
   "mimetype": "text/x-python",
   "name": "python",
   "nbconvert_exporter": "python",
   "pygments_lexer": "ipython2",
   "version": "2.7.13"
  }
 },
 "nbformat": 4,
 "nbformat_minor": 1
}
