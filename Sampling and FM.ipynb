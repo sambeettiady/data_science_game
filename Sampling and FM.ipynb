{
 "cells": [
  {
   "cell_type": "code",
   "execution_count": 1,
   "metadata": {},
   "outputs": [],
   "source": [
    "%matplotlib inline\n",
    "import pandas as pd\n",
    "import numpy as np\n",
    "import seaborn as sns\n",
    "import os\n",
    "import gc\n",
    "from IPython.core.display import display, HTML, display_pretty\n",
    "import matplotlib.pyplot as plt\n",
    "from sklearn.model_selection import train_test_split\n",
    "from sklearn.preprocessing import LabelEncoder\n",
    "from sklearn.model_selection import KFold\n",
    "import lightgbm as lgb\n",
    "from imblearn.datasets import make_imbalance\n",
    "os.chdir('/home/sambeet/data/dsg/')"
   ]
  },
  {
   "cell_type": "code",
   "execution_count": 2,
   "metadata": {
    "scrolled": false
   },
   "outputs": [
    {
     "data": {
      "text/html": [
       "<div>\n",
       "<style scoped>\n",
       "    .dataframe tbody tr th:only-of-type {\n",
       "        vertical-align: middle;\n",
       "    }\n",
       "\n",
       "    .dataframe tbody tr th {\n",
       "        vertical-align: top;\n",
       "    }\n",
       "\n",
       "    .dataframe thead th {\n",
       "        text-align: right;\n",
       "    }\n",
       "</style>\n",
       "<table border=\"1\" class=\"dataframe\">\n",
       "  <thead>\n",
       "    <tr style=\"text-align: right;\">\n",
       "      <th></th>\n",
       "      <th>CustomerIdx</th>\n",
       "      <th>IsinIdx</th>\n",
       "      <th>BuySell</th>\n",
       "      <th>CustomerInterest</th>\n",
       "      <th>year</th>\n",
       "      <th>weekofyear</th>\n",
       "    </tr>\n",
       "  </thead>\n",
       "  <tbody>\n",
       "    <tr>\n",
       "      <th>0</th>\n",
       "      <td>2789</td>\n",
       "      <td>8478</td>\n",
       "      <td>Sell</td>\n",
       "      <td>True</td>\n",
       "      <td>2016</td>\n",
       "      <td>49</td>\n",
       "    </tr>\n",
       "    <tr>\n",
       "      <th>1</th>\n",
       "      <td>2574</td>\n",
       "      <td>14562</td>\n",
       "      <td>Buy</td>\n",
       "      <td>True</td>\n",
       "      <td>2017</td>\n",
       "      <td>13</td>\n",
       "    </tr>\n",
       "    <tr>\n",
       "      <th>2</th>\n",
       "      <td>2574</td>\n",
       "      <td>4747</td>\n",
       "      <td>Buy</td>\n",
       "      <td>True</td>\n",
       "      <td>2017</td>\n",
       "      <td>16</td>\n",
       "    </tr>\n",
       "    <tr>\n",
       "      <th>3</th>\n",
       "      <td>2574</td>\n",
       "      <td>9885</td>\n",
       "      <td>Sell</td>\n",
       "      <td>True</td>\n",
       "      <td>2017</td>\n",
       "      <td>10</td>\n",
       "    </tr>\n",
       "    <tr>\n",
       "      <th>4</th>\n",
       "      <td>2574</td>\n",
       "      <td>8885</td>\n",
       "      <td>Buy</td>\n",
       "      <td>True</td>\n",
       "      <td>2016</td>\n",
       "      <td>46</td>\n",
       "    </tr>\n",
       "  </tbody>\n",
       "</table>\n",
       "</div>"
      ],
      "text/plain": [
       "   CustomerIdx  IsinIdx BuySell  CustomerInterest  year  weekofyear\n",
       "0         2789     8478    Sell              True  2016          49\n",
       "1         2574    14562     Buy              True  2017          13\n",
       "2         2574     4747     Buy              True  2017          16\n",
       "3         2574     9885    Sell              True  2017          10\n",
       "4         2574     8885     Buy              True  2016          46"
      ]
     },
     "execution_count": 2,
     "metadata": {},
     "output_type": "execute_result"
    }
   ],
   "source": [
    "trade = pd.read_csv('Trade.csv',parse_dates=['TradeDateKey'])\n",
    "#trade = trade[trade.TradeDateKey >= '11-01-2017']\n",
    "trade['CustomerInterest'] = True\n",
    "#trade = trade[trade.CustomerInterest == True]\n",
    "trade['BuySell'] = trade['BuySell'].astype('category')\n",
    "trade['TradeStatus'] = trade['TradeStatus'].astype('category')\n",
    "trade['CustomerInterest'] = trade['CustomerInterest'].astype('bool')\n",
    "trade['year'] = trade.TradeDateKey.dt.year\n",
    "trade['month'] = trade.TradeDateKey.dt.month\n",
    "trade['weekofyear'] = trade.TradeDateKey.dt.weekofyear\n",
    "test = trade[['CustomerIdx','IsinIdx','BuySell']].drop_duplicates()\n",
    "trade.drop(['TradeDateKey','NotionalEUR','Price','TradeStatus','month'],axis=1,inplace=True)\n",
    "trade.head()\n",
    "#trade = trade.groupby(['CustomerIdx','IsinIdx','BuySell','year','month','weekofyear'])['CustomerInterest'].sum().reset_index()\n",
    "#trade['CustomerInterest'] = trade.CustomerInterest >= 1"
   ]
  },
  {
   "cell_type": "code",
   "execution_count": 3,
   "metadata": {},
   "outputs": [
    {
     "data": {
      "text/plain": [
       "(2046077, 3)"
      ]
     },
     "execution_count": 3,
     "metadata": {},
     "output_type": "execute_result"
    }
   ],
   "source": [
    "test.shape"
   ]
  },
  {
   "cell_type": "code",
   "execution_count": 4,
   "metadata": {},
   "outputs": [
    {
     "name": "stdout",
     "output_type": "stream",
     "text": [
      "2016\n",
      "1\n"
     ]
    },
    {
     "name": "stderr",
     "output_type": "stream",
     "text": [
      "/home/sambeet/anaconda2/lib/python2.7/site-packages/ipykernel_launcher.py:19: FutureWarning: Sorting because non-concatenation axis is not aligned. A future version\n",
      "of pandas will change to not sort by default.\n",
      "\n",
      "To accept the future behavior, pass 'sort=True'.\n",
      "\n",
      "To retain the current behavior and silence the warning, pass sort=False\n",
      "\n"
     ]
    },
    {
     "name": "stdout",
     "output_type": "stream",
     "text": [
      "2\n",
      "3\n",
      "4\n",
      "5\n",
      "6\n",
      "7\n",
      "8\n",
      "9\n",
      "10\n",
      "11\n",
      "12\n",
      "13\n",
      "14\n",
      "15\n",
      "16\n",
      "17\n",
      "18\n",
      "19\n",
      "20\n",
      "21\n",
      "22\n",
      "23\n",
      "24\n",
      "25\n",
      "26\n",
      "27\n",
      "28\n",
      "29\n",
      "30\n",
      "31\n",
      "32\n",
      "33\n",
      "34\n",
      "35\n",
      "36\n",
      "37\n",
      "38\n",
      "39\n",
      "40\n",
      "41\n",
      "42\n",
      "43\n",
      "44\n",
      "45\n",
      "46\n",
      "47\n",
      "48\n",
      "49\n",
      "50\n",
      "51\n",
      "52\n",
      "53\n",
      "2017\n",
      "44\n",
      "45\n",
      "46\n",
      "47\n",
      "48\n",
      "49\n",
      "50\n",
      "51\n",
      "52\n",
      "2018\n",
      "1\n",
      "2\n",
      "3\n",
      "4\n",
      "5\n",
      "6\n",
      "7\n",
      "8\n",
      "9\n",
      "10\n",
      "11\n",
      "12\n",
      "13\n"
     ]
    },
    {
     "ename": "KeyboardInterrupt",
     "evalue": "",
     "output_type": "error",
     "traceback": [
      "\u001b[0;31m---------------------------------------------------------------------------\u001b[0m",
      "\u001b[0;31mKeyboardInterrupt\u001b[0m                         Traceback (most recent call last)",
      "\u001b[0;32m<ipython-input-4-e807631ada7b>\u001b[0m in \u001b[0;36m<module>\u001b[0;34m()\u001b[0m\n\u001b[1;32m     17\u001b[0m             \u001b[0mtemp\u001b[0m\u001b[0;34m[\u001b[0m\u001b[0;34m'weekofyear'\u001b[0m\u001b[0;34m]\u001b[0m \u001b[0;34m=\u001b[0m \u001b[0mweekofyear\u001b[0m\u001b[0;34m\u001b[0m\u001b[0m\n\u001b[1;32m     18\u001b[0m             \u001b[0mtemp\u001b[0m\u001b[0;34m[\u001b[0m\u001b[0;34m'CustomerInterest'\u001b[0m\u001b[0;34m]\u001b[0m \u001b[0;34m=\u001b[0m \u001b[0mFalse\u001b[0m\u001b[0;34m\u001b[0m\u001b[0m\n\u001b[0;32m---> 19\u001b[0;31m             \u001b[0mtrade\u001b[0m \u001b[0;34m=\u001b[0m \u001b[0mpd\u001b[0m\u001b[0;34m.\u001b[0m\u001b[0mconcat\u001b[0m\u001b[0;34m(\u001b[0m\u001b[0;34m[\u001b[0m\u001b[0mtrade\u001b[0m\u001b[0;34m,\u001b[0m\u001b[0mtemp\u001b[0m\u001b[0;34m]\u001b[0m\u001b[0;34m,\u001b[0m\u001b[0maxis\u001b[0m\u001b[0;34m=\u001b[0m\u001b[0;36m0\u001b[0m\u001b[0;34m)\u001b[0m\u001b[0;34m\u001b[0m\u001b[0m\n\u001b[0m",
      "\u001b[0;32m/home/sambeet/anaconda2/lib/python2.7/site-packages/pandas/core/reshape/concat.pyc\u001b[0m in \u001b[0;36mconcat\u001b[0;34m(objs, axis, join, join_axes, ignore_index, keys, levels, names, verify_integrity, sort, copy)\u001b[0m\n\u001b[1;32m    224\u001b[0m                        \u001b[0mverify_integrity\u001b[0m\u001b[0;34m=\u001b[0m\u001b[0mverify_integrity\u001b[0m\u001b[0;34m,\u001b[0m\u001b[0;34m\u001b[0m\u001b[0m\n\u001b[1;32m    225\u001b[0m                        copy=copy, sort=sort)\n\u001b[0;32m--> 226\u001b[0;31m     \u001b[0;32mreturn\u001b[0m \u001b[0mop\u001b[0m\u001b[0;34m.\u001b[0m\u001b[0mget_result\u001b[0m\u001b[0;34m(\u001b[0m\u001b[0;34m)\u001b[0m\u001b[0;34m\u001b[0m\u001b[0m\n\u001b[0m\u001b[1;32m    227\u001b[0m \u001b[0;34m\u001b[0m\u001b[0m\n\u001b[1;32m    228\u001b[0m \u001b[0;34m\u001b[0m\u001b[0m\n",
      "\u001b[0;32m/home/sambeet/anaconda2/lib/python2.7/site-packages/pandas/core/reshape/concat.pyc\u001b[0m in \u001b[0;36mget_result\u001b[0;34m(self)\u001b[0m\n\u001b[1;32m    421\u001b[0m             new_data = concatenate_block_managers(\n\u001b[1;32m    422\u001b[0m                 \u001b[0mmgrs_indexers\u001b[0m\u001b[0;34m,\u001b[0m \u001b[0mself\u001b[0m\u001b[0;34m.\u001b[0m\u001b[0mnew_axes\u001b[0m\u001b[0;34m,\u001b[0m \u001b[0mconcat_axis\u001b[0m\u001b[0;34m=\u001b[0m\u001b[0mself\u001b[0m\u001b[0;34m.\u001b[0m\u001b[0maxis\u001b[0m\u001b[0;34m,\u001b[0m\u001b[0;34m\u001b[0m\u001b[0m\n\u001b[0;32m--> 423\u001b[0;31m                 copy=self.copy)\n\u001b[0m\u001b[1;32m    424\u001b[0m             \u001b[0;32mif\u001b[0m \u001b[0;32mnot\u001b[0m \u001b[0mself\u001b[0m\u001b[0;34m.\u001b[0m\u001b[0mcopy\u001b[0m\u001b[0;34m:\u001b[0m\u001b[0;34m\u001b[0m\u001b[0m\n\u001b[1;32m    425\u001b[0m                 \u001b[0mnew_data\u001b[0m\u001b[0;34m.\u001b[0m\u001b[0m_consolidate_inplace\u001b[0m\u001b[0;34m(\u001b[0m\u001b[0;34m)\u001b[0m\u001b[0;34m\u001b[0m\u001b[0m\n",
      "\u001b[0;32m/home/sambeet/anaconda2/lib/python2.7/site-packages/pandas/core/internals.pyc\u001b[0m in \u001b[0;36mconcatenate_block_managers\u001b[0;34m(mgrs_indexers, axes, concat_axis, copy)\u001b[0m\n\u001b[1;32m   5419\u001b[0m         \u001b[0;32melse\u001b[0m\u001b[0;34m:\u001b[0m\u001b[0;34m\u001b[0m\u001b[0m\n\u001b[1;32m   5420\u001b[0m             b = make_block(\n\u001b[0;32m-> 5421\u001b[0;31m                 \u001b[0mconcatenate_join_units\u001b[0m\u001b[0;34m(\u001b[0m\u001b[0mjoin_units\u001b[0m\u001b[0;34m,\u001b[0m \u001b[0mconcat_axis\u001b[0m\u001b[0;34m,\u001b[0m \u001b[0mcopy\u001b[0m\u001b[0;34m=\u001b[0m\u001b[0mcopy\u001b[0m\u001b[0;34m)\u001b[0m\u001b[0;34m,\u001b[0m\u001b[0;34m\u001b[0m\u001b[0m\n\u001b[0m\u001b[1;32m   5422\u001b[0m                 placement=placement)\n\u001b[1;32m   5423\u001b[0m         \u001b[0mblocks\u001b[0m\u001b[0;34m.\u001b[0m\u001b[0mappend\u001b[0m\u001b[0;34m(\u001b[0m\u001b[0mb\u001b[0m\u001b[0;34m)\u001b[0m\u001b[0;34m\u001b[0m\u001b[0m\n",
      "\u001b[0;32m/home/sambeet/anaconda2/lib/python2.7/site-packages/pandas/core/internals.pyc\u001b[0m in \u001b[0;36mconcatenate_join_units\u001b[0;34m(join_units, concat_axis, copy)\u001b[0m\n\u001b[1;32m   5577\u001b[0m                 \u001b[0mconcat_values\u001b[0m \u001b[0;34m=\u001b[0m \u001b[0mconcat_values\u001b[0m\u001b[0;34m.\u001b[0m\u001b[0mcopy\u001b[0m\u001b[0;34m(\u001b[0m\u001b[0;34m)\u001b[0m\u001b[0;34m\u001b[0m\u001b[0m\n\u001b[1;32m   5578\u001b[0m     \u001b[0;32melse\u001b[0m\u001b[0;34m:\u001b[0m\u001b[0;34m\u001b[0m\u001b[0m\n\u001b[0;32m-> 5579\u001b[0;31m         \u001b[0mconcat_values\u001b[0m \u001b[0;34m=\u001b[0m \u001b[0m_concat\u001b[0m\u001b[0;34m.\u001b[0m\u001b[0m_concat_compat\u001b[0m\u001b[0;34m(\u001b[0m\u001b[0mto_concat\u001b[0m\u001b[0;34m,\u001b[0m \u001b[0maxis\u001b[0m\u001b[0;34m=\u001b[0m\u001b[0mconcat_axis\u001b[0m\u001b[0;34m)\u001b[0m\u001b[0;34m\u001b[0m\u001b[0m\n\u001b[0m\u001b[1;32m   5580\u001b[0m \u001b[0;34m\u001b[0m\u001b[0m\n\u001b[1;32m   5581\u001b[0m     \u001b[0;32mreturn\u001b[0m \u001b[0mconcat_values\u001b[0m\u001b[0;34m\u001b[0m\u001b[0m\n",
      "\u001b[0;32m/home/sambeet/anaconda2/lib/python2.7/site-packages/pandas/core/dtypes/concat.pyc\u001b[0m in \u001b[0;36m_concat_compat\u001b[0;34m(to_concat, axis)\u001b[0m\n\u001b[1;32m    194\u001b[0m                 \u001b[0mto_concat\u001b[0m \u001b[0;34m=\u001b[0m \u001b[0;34m[\u001b[0m\u001b[0mx\u001b[0m\u001b[0;34m.\u001b[0m\u001b[0mastype\u001b[0m\u001b[0;34m(\u001b[0m\u001b[0;34m'object'\u001b[0m\u001b[0;34m)\u001b[0m \u001b[0;32mfor\u001b[0m \u001b[0mx\u001b[0m \u001b[0;32min\u001b[0m \u001b[0mto_concat\u001b[0m\u001b[0;34m]\u001b[0m\u001b[0;34m\u001b[0m\u001b[0m\n\u001b[1;32m    195\u001b[0m \u001b[0;34m\u001b[0m\u001b[0m\n\u001b[0;32m--> 196\u001b[0;31m     \u001b[0;32mreturn\u001b[0m \u001b[0mnp\u001b[0m\u001b[0;34m.\u001b[0m\u001b[0mconcatenate\u001b[0m\u001b[0;34m(\u001b[0m\u001b[0mto_concat\u001b[0m\u001b[0;34m,\u001b[0m \u001b[0maxis\u001b[0m\u001b[0;34m=\u001b[0m\u001b[0maxis\u001b[0m\u001b[0;34m)\u001b[0m\u001b[0;34m\u001b[0m\u001b[0m\n\u001b[0m\u001b[1;32m    197\u001b[0m \u001b[0;34m\u001b[0m\u001b[0m\n\u001b[1;32m    198\u001b[0m \u001b[0;34m\u001b[0m\u001b[0m\n",
      "\u001b[0;31mKeyboardInterrupt\u001b[0m: "
     ]
    }
   ],
   "source": [
    "yearlist = list(np.unique(trade.year))\n",
    "weekofyearlist = list(np.unique(trade.weekofyear))\n",
    "for year in yearlist:\n",
    "    print year\n",
    "    for weekofyear in weekofyearlist:\n",
    "        if year == 2017 and weekofyear == 53:\n",
    "            continue\n",
    "        elif year == 2018 and weekofyear >= 17:\n",
    "            continue\n",
    "        else:\n",
    "            print weekofyear\n",
    "            temp = test.copy()\n",
    "            temp = temp.sample(frac=0.1)\n",
    "            temp['year'] = year\n",
    "            temp['weekofyear'] = weekofyear\n",
    "            temp['CustomerInterest'] = False\n",
    "            trade = pd.concat([trade,temp],axis=0)"
   ]
  },
  {
   "cell_type": "code",
   "execution_count": 115,
   "metadata": {},
   "outputs": [
    {
     "data": {
      "text/plain": [
       "(13471363, 6)"
      ]
     },
     "execution_count": 115,
     "metadata": {},
     "output_type": "execute_result"
    }
   ],
   "source": [
    "trade.shape"
   ]
  },
  {
   "cell_type": "code",
   "execution_count": 116,
   "metadata": {},
   "outputs": [
    {
     "data": {
      "text/plain": [
       "357"
      ]
     },
     "execution_count": 116,
     "metadata": {},
     "output_type": "execute_result"
    }
   ],
   "source": [
    "del temp\n",
    "gc.collect()"
   ]
  },
  {
   "cell_type": "code",
   "execution_count": 117,
   "metadata": {},
   "outputs": [
    {
     "data": {
      "text/html": [
       "<div>\n",
       "<style scoped>\n",
       "    .dataframe tbody tr th:only-of-type {\n",
       "        vertical-align: middle;\n",
       "    }\n",
       "\n",
       "    .dataframe tbody tr th {\n",
       "        vertical-align: top;\n",
       "    }\n",
       "\n",
       "    .dataframe thead th {\n",
       "        text-align: right;\n",
       "    }\n",
       "</style>\n",
       "<table border=\"1\" class=\"dataframe\">\n",
       "  <thead>\n",
       "    <tr style=\"text-align: right;\">\n",
       "      <th></th>\n",
       "      <th>CustomerIdx</th>\n",
       "      <th>IsinIdx</th>\n",
       "      <th>BuySell</th>\n",
       "      <th>year</th>\n",
       "      <th>weekofyear</th>\n",
       "      <th>CustomerInterest</th>\n",
       "    </tr>\n",
       "  </thead>\n",
       "  <tbody>\n",
       "    <tr>\n",
       "      <th>0</th>\n",
       "      <td>0</td>\n",
       "      <td>21856</td>\n",
       "      <td>Buy</td>\n",
       "      <td>2017</td>\n",
       "      <td>44</td>\n",
       "      <td>False</td>\n",
       "    </tr>\n",
       "    <tr>\n",
       "      <th>1</th>\n",
       "      <td>0</td>\n",
       "      <td>21856</td>\n",
       "      <td>Buy</td>\n",
       "      <td>2017</td>\n",
       "      <td>45</td>\n",
       "      <td>False</td>\n",
       "    </tr>\n",
       "    <tr>\n",
       "      <th>2</th>\n",
       "      <td>0</td>\n",
       "      <td>21856</td>\n",
       "      <td>Buy</td>\n",
       "      <td>2017</td>\n",
       "      <td>46</td>\n",
       "      <td>False</td>\n",
       "    </tr>\n",
       "    <tr>\n",
       "      <th>3</th>\n",
       "      <td>0</td>\n",
       "      <td>21856</td>\n",
       "      <td>Buy</td>\n",
       "      <td>2017</td>\n",
       "      <td>47</td>\n",
       "      <td>False</td>\n",
       "    </tr>\n",
       "    <tr>\n",
       "      <th>4</th>\n",
       "      <td>0</td>\n",
       "      <td>21856</td>\n",
       "      <td>Buy</td>\n",
       "      <td>2017</td>\n",
       "      <td>48</td>\n",
       "      <td>False</td>\n",
       "    </tr>\n",
       "  </tbody>\n",
       "</table>\n",
       "</div>"
      ],
      "text/plain": [
       "   CustomerIdx  IsinIdx BuySell  year  weekofyear  CustomerInterest\n",
       "0            0    21856     Buy  2017          44             False\n",
       "1            0    21856     Buy  2017          45             False\n",
       "2            0    21856     Buy  2017          46             False\n",
       "3            0    21856     Buy  2017          47             False\n",
       "4            0    21856     Buy  2017          48             False"
      ]
     },
     "execution_count": 117,
     "metadata": {},
     "output_type": "execute_result"
    }
   ],
   "source": [
    "trade = trade.groupby(['CustomerIdx','IsinIdx','BuySell','year','weekofyear'])['CustomerInterest'].sum().reset_index()\n",
    "trade['CustomerInterest'] = trade.CustomerInterest > 1\n",
    "trade.head()"
   ]
  },
  {
   "cell_type": "code",
   "execution_count": 118,
   "metadata": {},
   "outputs": [
    {
     "data": {
      "text/plain": [
       "(12847937, 6)"
      ]
     },
     "execution_count": 118,
     "metadata": {},
     "output_type": "execute_result"
    }
   ],
   "source": [
    "trade.shape"
   ]
  },
  {
   "cell_type": "code",
   "execution_count": 119,
   "metadata": {
    "scrolled": true
   },
   "outputs": [
    {
     "name": "stdout",
     "output_type": "stream",
     "text": [
      "Transforming Sector...\n",
      "Transforming Subsector...\n",
      "Transforming Region...\n",
      "Transforming Country...\n",
      "Transforming Seniority...\n",
      "Transforming Currency...\n",
      "Transforming ActivityGroup...\n",
      "Transforming Region...\n",
      "Transforming Activity...\n",
      "Transforming RiskCaptain...\n",
      "Transforming Owner...\n",
      "Transforming CompositeRating...\n",
      "Transforming IndustrySector...\n",
      "Transforming IndustrySubgroup...\n",
      "Transforming MarketIssue...\n",
      "Transforming CouponType...\n"
     ]
    }
   ],
   "source": [
    "customer = pd.read_csv('Customer.csv')\n",
    "categorical_columns = ['Sector','Subsector','Region','Country']\n",
    "for col in categorical_columns:\n",
    "    customer[col] = customer[col].astype('category')\n",
    "    print 'Transforming {}...'.format(col)\n",
    "    encoder = LabelEncoder()\n",
    "    encoder.fit(customer[col].astype(str))\n",
    "    customer[col] = encoder.transform(customer[col].astype(str))\n",
    "\n",
    "bond = pd.read_csv('Isin.csv',parse_dates=['ActualMaturityDateKey', 'IssueDateKey'])\n",
    "categorical_columns = ['Seniority','Currency','ActivityGroup','Region','Activity',\n",
    "       'RiskCaptain','Owner','CompositeRating','IndustrySector','IndustrySubgroup','MarketIssue','CouponType']\n",
    "for col in categorical_columns:\n",
    "    bond[col] = bond[col].astype('category')\n",
    "    print 'Transforming {}...'.format(col)\n",
    "    encoder = LabelEncoder()\n",
    "    encoder.fit(bond[col].astype(str))\n",
    "    bond[col] = encoder.transform(bond[col].astype(str))\n",
    "\n",
    "customer = customer.rename({'Region':'CustomerRegion'},axis=1)\n",
    "bond = bond.rename({'Region':'BondRegion'},axis=1)\n",
    "encoder = LabelEncoder()\n",
    "encoder.fit(trade['BuySell'].astype(str))    \n",
    "trade['BuySell'] = encoder.transform(trade['BuySell'].astype(str))"
   ]
  },
  {
   "cell_type": "code",
   "execution_count": 120,
   "metadata": {},
   "outputs": [],
   "source": [
    "gc.collect()\n",
    "trade = trade.merge(customer,on=['CustomerIdx'],how='left')\n",
    "trade = trade.merge(bond,on=['IsinIdx'],how='left')"
   ]
  },
  {
   "cell_type": "code",
   "execution_count": 121,
   "metadata": {},
   "outputs": [
    {
     "data": {
      "text/html": [
       "<div>\n",
       "<style scoped>\n",
       "    .dataframe tbody tr th:only-of-type {\n",
       "        vertical-align: middle;\n",
       "    }\n",
       "\n",
       "    .dataframe tbody tr th {\n",
       "        vertical-align: top;\n",
       "    }\n",
       "\n",
       "    .dataframe thead th {\n",
       "        text-align: right;\n",
       "    }\n",
       "</style>\n",
       "<table border=\"1\" class=\"dataframe\">\n",
       "  <thead>\n",
       "    <tr style=\"text-align: right;\">\n",
       "      <th></th>\n",
       "      <th>CustomerIdx</th>\n",
       "      <th>IsinIdx</th>\n",
       "      <th>BuySell</th>\n",
       "      <th>year</th>\n",
       "      <th>weekofyear</th>\n",
       "      <th>CustomerInterest</th>\n",
       "      <th>Sector</th>\n",
       "      <th>Subsector</th>\n",
       "      <th>CustomerRegion</th>\n",
       "      <th>Country</th>\n",
       "      <th>...</th>\n",
       "      <th>BondRegion</th>\n",
       "      <th>Activity</th>\n",
       "      <th>RiskCaptain</th>\n",
       "      <th>Owner</th>\n",
       "      <th>CompositeRating</th>\n",
       "      <th>IndustrySector</th>\n",
       "      <th>IndustrySubgroup</th>\n",
       "      <th>MarketIssue</th>\n",
       "      <th>IssuedAmount</th>\n",
       "      <th>CouponType</th>\n",
       "    </tr>\n",
       "  </thead>\n",
       "  <tbody>\n",
       "    <tr>\n",
       "      <th>0</th>\n",
       "      <td>0</td>\n",
       "      <td>21856</td>\n",
       "      <td>0</td>\n",
       "      <td>2017</td>\n",
       "      <td>44</td>\n",
       "      <td>False</td>\n",
       "      <td>0</td>\n",
       "      <td>24</td>\n",
       "      <td>1</td>\n",
       "      <td>34</td>\n",
       "      <td>...</td>\n",
       "      <td>1</td>\n",
       "      <td>2</td>\n",
       "      <td>1</td>\n",
       "      <td>0</td>\n",
       "      <td>7</td>\n",
       "      <td>7</td>\n",
       "      <td>247</td>\n",
       "      <td>5</td>\n",
       "      <td>600000000.0</td>\n",
       "      <td>0</td>\n",
       "    </tr>\n",
       "    <tr>\n",
       "      <th>1</th>\n",
       "      <td>0</td>\n",
       "      <td>21856</td>\n",
       "      <td>0</td>\n",
       "      <td>2017</td>\n",
       "      <td>45</td>\n",
       "      <td>False</td>\n",
       "      <td>0</td>\n",
       "      <td>24</td>\n",
       "      <td>1</td>\n",
       "      <td>34</td>\n",
       "      <td>...</td>\n",
       "      <td>1</td>\n",
       "      <td>2</td>\n",
       "      <td>1</td>\n",
       "      <td>0</td>\n",
       "      <td>7</td>\n",
       "      <td>7</td>\n",
       "      <td>247</td>\n",
       "      <td>5</td>\n",
       "      <td>600000000.0</td>\n",
       "      <td>0</td>\n",
       "    </tr>\n",
       "    <tr>\n",
       "      <th>2</th>\n",
       "      <td>0</td>\n",
       "      <td>21856</td>\n",
       "      <td>0</td>\n",
       "      <td>2017</td>\n",
       "      <td>46</td>\n",
       "      <td>False</td>\n",
       "      <td>0</td>\n",
       "      <td>24</td>\n",
       "      <td>1</td>\n",
       "      <td>34</td>\n",
       "      <td>...</td>\n",
       "      <td>1</td>\n",
       "      <td>2</td>\n",
       "      <td>1</td>\n",
       "      <td>0</td>\n",
       "      <td>7</td>\n",
       "      <td>7</td>\n",
       "      <td>247</td>\n",
       "      <td>5</td>\n",
       "      <td>600000000.0</td>\n",
       "      <td>0</td>\n",
       "    </tr>\n",
       "    <tr>\n",
       "      <th>3</th>\n",
       "      <td>0</td>\n",
       "      <td>21856</td>\n",
       "      <td>0</td>\n",
       "      <td>2017</td>\n",
       "      <td>47</td>\n",
       "      <td>False</td>\n",
       "      <td>0</td>\n",
       "      <td>24</td>\n",
       "      <td>1</td>\n",
       "      <td>34</td>\n",
       "      <td>...</td>\n",
       "      <td>1</td>\n",
       "      <td>2</td>\n",
       "      <td>1</td>\n",
       "      <td>0</td>\n",
       "      <td>7</td>\n",
       "      <td>7</td>\n",
       "      <td>247</td>\n",
       "      <td>5</td>\n",
       "      <td>600000000.0</td>\n",
       "      <td>0</td>\n",
       "    </tr>\n",
       "    <tr>\n",
       "      <th>4</th>\n",
       "      <td>0</td>\n",
       "      <td>21856</td>\n",
       "      <td>0</td>\n",
       "      <td>2017</td>\n",
       "      <td>48</td>\n",
       "      <td>False</td>\n",
       "      <td>0</td>\n",
       "      <td>24</td>\n",
       "      <td>1</td>\n",
       "      <td>34</td>\n",
       "      <td>...</td>\n",
       "      <td>1</td>\n",
       "      <td>2</td>\n",
       "      <td>1</td>\n",
       "      <td>0</td>\n",
       "      <td>7</td>\n",
       "      <td>7</td>\n",
       "      <td>247</td>\n",
       "      <td>5</td>\n",
       "      <td>600000000.0</td>\n",
       "      <td>0</td>\n",
       "    </tr>\n",
       "  </tbody>\n",
       "</table>\n",
       "<p>5 rows × 26 columns</p>\n",
       "</div>"
      ],
      "text/plain": [
       "   CustomerIdx  IsinIdx  BuySell  year  weekofyear  CustomerInterest  Sector  \\\n",
       "0            0    21856        0  2017          44             False       0   \n",
       "1            0    21856        0  2017          45             False       0   \n",
       "2            0    21856        0  2017          46             False       0   \n",
       "3            0    21856        0  2017          47             False       0   \n",
       "4            0    21856        0  2017          48             False       0   \n",
       "\n",
       "   Subsector  CustomerRegion  Country     ...      BondRegion Activity  \\\n",
       "0         24               1       34     ...               1        2   \n",
       "1         24               1       34     ...               1        2   \n",
       "2         24               1       34     ...               1        2   \n",
       "3         24               1       34     ...               1        2   \n",
       "4         24               1       34     ...               1        2   \n",
       "\n",
       "  RiskCaptain  Owner  CompositeRating  IndustrySector  IndustrySubgroup  \\\n",
       "0           1      0                7               7               247   \n",
       "1           1      0                7               7               247   \n",
       "2           1      0                7               7               247   \n",
       "3           1      0                7               7               247   \n",
       "4           1      0                7               7               247   \n",
       "\n",
       "   MarketIssue  IssuedAmount  CouponType  \n",
       "0            5   600000000.0           0  \n",
       "1            5   600000000.0           0  \n",
       "2            5   600000000.0           0  \n",
       "3            5   600000000.0           0  \n",
       "4            5   600000000.0           0  \n",
       "\n",
       "[5 rows x 26 columns]"
      ]
     },
     "execution_count": 121,
     "metadata": {},
     "output_type": "execute_result"
    }
   ],
   "source": [
    "trade.head()"
   ]
  },
  {
   "cell_type": "code",
   "execution_count": 122,
   "metadata": {},
   "outputs": [
    {
     "data": {
      "text/plain": [
       "0.006160911280931717"
      ]
     },
     "execution_count": 122,
     "metadata": {},
     "output_type": "execute_result"
    }
   ],
   "source": [
    "trade.CustomerInterest.mean()"
   ]
  },
  {
   "cell_type": "markdown",
   "metadata": {},
   "source": [
    "trade = trade.sort_values(['year','weekofyear']).reset_index(drop=True)\n",
    "valid_index = list(trade[(trade.year == 2018) & (trade.weekofyear >= 13)].index)\n",
    "all_index = list(trade.index)\n",
    "train_index = list(set(all_index) - set(valid_index))\n",
    "len(all_index) - len(train_index) - len(valid_index)\n",
    "gc.collect()"
   ]
  },
  {
   "cell_type": "markdown",
   "metadata": {},
   "source": [
    "categorical_holdings = ['CustomerIdx','IsinIdx','BuySell','year']#,'weekofyear']\n",
    "predictors_holdings = ['CustomerIdx','IsinIdx','BuySell','year']#,'weekofyear']\n",
    "target_holdings = 'CustomerInterest'"
   ]
  },
  {
   "cell_type": "code",
   "execution_count": 137,
   "metadata": {},
   "outputs": [
    {
     "name": "stdout",
     "output_type": "stream",
     "text": [
      "(['CustomerIdx', 'IsinIdx', 'BuySell', 'year', 'weekofyear', 'Sector', 'Subsector', 'CustomerRegion', 'Country', 'Seniority', 'Currency', 'ActivityGroup', 'BondRegion', 'Activity', 'RiskCaptain', 'Owner', 'CompositeRating', 'IndustrySector', 'IndustrySubgroup', 'MarketIssue', 'IssuedAmount', 'CouponType'], ['BuySell', 'Sector', 'Subsector', 'CustomerRegion', 'Country', 'Seniority', 'Currency', 'ActivityGroup', 'BondRegion', 'Activity', 'RiskCaptain', 'Owner', 'CompositeRating', 'IndustrySector', 'IndustrySubgroup', 'MarketIssue', 'CouponType', 'year', 'CustomerIdx', 'IsinIdx', 'weekofyear'], 22, 12847937)\n"
     ]
    }
   ],
   "source": [
    "categorical_to_be_transformed = ['BuySell','Sector','Subsector','CustomerRegion', 'Country','Seniority','Currency',\n",
    "                                 'ActivityGroup', 'BondRegion', 'Activity', 'RiskCaptain', 'Owner', \n",
    "                                 'CompositeRating', 'IndustrySector', 'IndustrySubgroup', 'MarketIssue','CouponType']\n",
    "categorical_holdings = categorical_to_be_transformed + ['year','CustomerIdx','IsinIdx','weekofyear']\n",
    "#categorical.remove('BuySell')\n",
    "predictors_holdings = list(trade.columns)\n",
    "#predictors.remove('TradeDateKey')\n",
    "#predictors.remove('IsinIdx')\n",
    "#predictors.remove('Price')\n",
    "predictors_holdings.remove('CustomerInterest')\n",
    "#predictors.remove('BuySell')\n",
    "predictors_holdings.remove('ActualMaturityDateKey')\n",
    "predictors_holdings.remove('IssueDateKey')\n",
    "#predictors.remove('TradeStatus')\n",
    "#predictors.remove('NotionalEUR')\n",
    "#predictors.remove('BondPrice')\n",
    "#predictors.remove('Yield')\n",
    "#predictors.remove('ZSpread')\n",
    "#predictors.remove('day')\n",
    "#predictors.remove('weekday')\n",
    "predictors_holdings.remove('TickerIdx')\n",
    "#predictors_holdings.remove('weekofyear')\n",
    "#predictors_holdings.remove('month')\n",
    "#predictors.remove('CustomerIdx')\n",
    "\n",
    "target_holdings = 'CustomerInterest'\n",
    "print(predictors_holdings,categorical_holdings,len(predictors_holdings),trade.shape[0])"
   ]
  },
  {
   "cell_type": "code",
   "execution_count": 138,
   "metadata": {},
   "outputs": [],
   "source": [
    "rounds = 10000\n",
    "early_stop_rounds = 50\n",
    "\n",
    "lgbm_params = {\n",
    "    'boosting_type': 'gbdt',\n",
    "    'objective': 'binary',\n",
    "    'metric' : 'auc',\n",
    "    'num_leaves' : 7,\n",
    "#    'max_depth': 3,\n",
    "    'learning_rate' : 0.01,\n",
    "#    'feature_fraction' : 1,\n",
    "#    'bagging_fraction' : 0.6,\n",
    "#    'bagging_freq' : 5,\n",
    "    'verbosity' : 1,\n",
    "    'num_threads' : 8,\n",
    "#    'min_data_in_leaf' : 10000,\n",
    "#    'lambda_l1' : 1,\n",
    "#    'lambda_l2' : 1,\n",
    "#    'cat_smooth' : 50,\n",
    "#    'max_bin' : 50,\n",
    "    'scale_pos_weight' : 100\n",
    "}"
   ]
  },
  {
   "cell_type": "code",
   "execution_count": 139,
   "metadata": {
    "scrolled": true
   },
   "outputs": [
    {
     "data": {
      "text/plain": [
       "7"
      ]
     },
     "execution_count": 139,
     "metadata": {},
     "output_type": "execute_result"
    }
   ],
   "source": [
    "gc.collect()"
   ]
  },
  {
   "cell_type": "code",
   "execution_count": 140,
   "metadata": {},
   "outputs": [],
   "source": [
    "valid_index = list((trade.year == 2018) & (trade.weekofyear >= 13))\n",
    "#all_index = list(trade.index)\n",
    "train_index = list(~((trade.year == 2018) & (trade.weekofyear >= 13)))\n",
    "#len(all_index) - len(train_index) - len(valid_index)\n",
    "#gc.collect()"
   ]
  },
  {
   "cell_type": "code",
   "execution_count": 141,
   "metadata": {},
   "outputs": [
    {
     "name": "stdout",
     "output_type": "stream",
     "text": [
      "Training until validation scores don't improve for 50 rounds.\n",
      "[50]\ttrain's auc: 0.698566\tvalid's auc: 0.586516\n",
      "[100]\ttrain's auc: 0.715171\tvalid's auc: 0.619156\n",
      "[150]\ttrain's auc: 0.725102\tvalid's auc: 0.623408\n",
      "[200]\ttrain's auc: 0.731952\tvalid's auc: 0.627377\n",
      "[250]\ttrain's auc: 0.737614\tvalid's auc: 0.630229\n",
      "[300]\ttrain's auc: 0.74173\tvalid's auc: 0.634165\n",
      "[350]\ttrain's auc: 0.745787\tvalid's auc: 0.637843\n",
      "[400]\ttrain's auc: 0.749556\tvalid's auc: 0.639819\n",
      "[450]\ttrain's auc: 0.752622\tvalid's auc: 0.64025\n",
      "[500]\ttrain's auc: 0.75566\tvalid's auc: 0.640947\n",
      "[550]\ttrain's auc: 0.757798\tvalid's auc: 0.641698\n",
      "[600]\ttrain's auc: 0.760109\tvalid's auc: 0.641949\n",
      "[650]\ttrain's auc: 0.761915\tvalid's auc: 0.642745\n",
      "[700]\ttrain's auc: 0.763945\tvalid's auc: 0.641087\n",
      "Early stopping, best iteration is:\n",
      "[655]\ttrain's auc: 0.762145\tvalid's auc: 0.642888\n"
     ]
    }
   ],
   "source": [
    "# LGBM Dataset Formatting\n",
    "#trade = trade.sort_values(['year','weekofyear']).reset_index(drop=True)\n",
    "x_train = trade[train_index].loc[:,predictors_holdings].values\n",
    "y_train = trade[train_index].loc[:,target_holdings].values\n",
    "x_valid = trade[valid_index].loc[:,predictors_holdings].values\n",
    "y_valid = trade[valid_index].loc[:,target_holdings].values\n",
    "train = lgb.Dataset(x_train,y_train,feature_name=predictors_holdings,categorical_feature = categorical_holdings)\n",
    "valid = lgb.Dataset(x_valid,y_valid,feature_name=predictors_holdings,categorical_feature = categorical_holdings)\n",
    "model_holdings = lgb.train(lgbm_params,train,num_boost_round=rounds,valid_sets=[train,valid],valid_names=['train','valid'],\n",
    "                    early_stopping_rounds=early_stop_rounds,verbose_eval=50)\n",
    "#del x_valid ; x_train; gc.collect()"
   ]
  },
  {
   "cell_type": "code",
   "execution_count": 135,
   "metadata": {
    "scrolled": false
   },
   "outputs": [
    {
     "data": {
      "text/plain": [
       "<matplotlib.text.Text at 0x7fb2e4722550>"
      ]
     },
     "execution_count": 135,
     "metadata": {},
     "output_type": "execute_result"
    },
    {
     "data": {
      "image/png": "[encoded data removed]",
      "text/plain": [
       "<matplotlib.figure.Figure at 0x7fb2e410cdd0>"
      ]
     },
     "metadata": {},
     "output_type": "display_data"
    }
   ],
   "source": [
    "lgb.plot_importance(model_holdings,importance_type='gain',figsize=(10,10))\n",
    "plt.title(\"Light GBM Feature Importance\")"
   ]
  },
  {
   "cell_type": "code",
   "execution_count": 136,
   "metadata": {},
   "outputs": [
    {
     "name": "stderr",
     "output_type": "stream",
     "text": [
      "/home/sambeet/anaconda2/lib/python2.7/site-packages/ipykernel_launcher.py:32: SettingWithCopyWarning: \n",
      "A value is trying to be set on a copy of a slice from a DataFrame\n",
      "\n",
      "See the caveats in the documentation: http://pandas.pydata.org/pandas-docs/stable/indexing.html#indexing-view-versus-copy\n"
     ]
    },
    {
     "data": {
      "text/plain": [
       "0.5724409153090605"
      ]
     },
     "execution_count": 136,
     "metadata": {},
     "output_type": "execute_result"
    }
   ],
   "source": [
    "test = pd.read_csv('Challenge_20180423.csv',parse_dates=['DateKey'])\n",
    "test = test.rename({'DateKey':'TradeDateKey'},axis=1)\n",
    "test['BuySell'] = test['BuySell'].astype('category')\n",
    "test['TradeDateKey'] = '20180423'\n",
    "test['TradeDateKey'] = pd.to_datetime(test.TradeDateKey)\n",
    "test['year'] = test.TradeDateKey.dt.year\n",
    "test['month'] = test.TradeDateKey.dt.month\n",
    "test['weekofyear'] = test.TradeDateKey.dt.weekofyear\n",
    "test['BuySell'] = encoder.transform(test['BuySell'].astype(str))\n",
    "test_13 = test.drop(['TradeDateKey','month','CustomerInterest'],axis=1)\n",
    "test_13['weekofyear'] = 13\n",
    "test_14 = test.drop(['TradeDateKey','month','CustomerInterest'],axis=1)\n",
    "test_14['weekofyear'] = 14\n",
    "test_15 = test.drop(['TradeDateKey','month','CustomerInterest'],axis=1)\n",
    "test_15['weekofyear'] = 15\n",
    "test_16 = test.drop(['TradeDateKey','month','CustomerInterest'],axis=1)\n",
    "test_16['weekofyear'] = 16\n",
    "test_local = pd.concat([test_13,test_14,test_15,test_16],axis=0)\n",
    "del test_13,test_14,test_15,test_16\n",
    "gc.collect()\n",
    "test_local = test_local.merge(customer,on=['CustomerIdx'],how='left')\n",
    "test_local = test_local.merge(bond,on=['IsinIdx'],how='left')\n",
    "filtered = pd.read_csv('Trade.csv',parse_dates=['TradeDateKey'])\n",
    "filtered['BuySell'] = filtered['BuySell'].astype('category')\n",
    "filtered['TradeStatus'] = filtered['TradeStatus'].astype('category')\n",
    "filtered['CustomerInterest'] = filtered['CustomerInterest'].astype('bool')\n",
    "filtered['year'] = filtered.TradeDateKey.dt.year\n",
    "filtered['month'] = filtered.TradeDateKey.dt.month\n",
    "filtered['weekofyear'] = filtered.TradeDateKey.dt.weekofyear\n",
    "filtered['BuySell'] = encoder.transform(filtered['BuySell'].astype(str))\n",
    "test_local = test_local.merge(filtered[['CustomerIdx','IsinIdx','BuySell','year','weekofyear','CustomerInterest']],on=['CustomerIdx','IsinIdx','BuySell','year','weekofyear'],how='left')\n",
    "test_local['CustomerInterest'][test_local.CustomerInterest.isnull()] = False\n",
    "test_local.head()\n",
    "test_local['predCustomerInterest'] = model_holdings.predict(test_local.loc[:,predictors_holdings].values)\n",
    "from sklearn.metrics import roc_auc_score\n",
    "y_true = test_local.CustomerInterest.astype(int).values\n",
    "y_scores = test_local.predCustomerInterest.values\n",
    "roc_auc_score(y_true, y_scores)"
   ]
  },
  {
   "cell_type": "code",
   "execution_count": 108,
   "metadata": {},
   "outputs": [],
   "source": [
    "test = test.merge(customer,on=['CustomerIdx'],how='left')\n",
    "test = test.merge(bond,on=['IsinIdx'],how='left')"
   ]
  },
  {
   "cell_type": "code",
   "execution_count": 109,
   "metadata": {
    "scrolled": true
   },
   "outputs": [
    {
     "data": {
      "text/html": [
       "<div>\n",
       "<style scoped>\n",
       "    .dataframe tbody tr th:only-of-type {\n",
       "        vertical-align: middle;\n",
       "    }\n",
       "\n",
       "    .dataframe tbody tr th {\n",
       "        vertical-align: top;\n",
       "    }\n",
       "\n",
       "    .dataframe thead th {\n",
       "        text-align: right;\n",
       "    }\n",
       "</style>\n",
       "<table border=\"1\" class=\"dataframe\">\n",
       "  <thead>\n",
       "    <tr style=\"text-align: right;\">\n",
       "      <th></th>\n",
       "      <th>PredictionIdx</th>\n",
       "      <th>TradeDateKey</th>\n",
       "      <th>CustomerIdx</th>\n",
       "      <th>IsinIdx</th>\n",
       "      <th>BuySell</th>\n",
       "      <th>CustomerInterest</th>\n",
       "      <th>year</th>\n",
       "      <th>month</th>\n",
       "      <th>weekofyear</th>\n",
       "      <th>Sector</th>\n",
       "      <th>...</th>\n",
       "      <th>BondRegion</th>\n",
       "      <th>Activity</th>\n",
       "      <th>RiskCaptain</th>\n",
       "      <th>Owner</th>\n",
       "      <th>CompositeRating</th>\n",
       "      <th>IndustrySector</th>\n",
       "      <th>IndustrySubgroup</th>\n",
       "      <th>MarketIssue</th>\n",
       "      <th>IssuedAmount</th>\n",
       "      <th>CouponType</th>\n",
       "    </tr>\n",
       "  </thead>\n",
       "  <tbody>\n",
       "    <tr>\n",
       "      <th>0</th>\n",
       "      <td>a1e0d80784</td>\n",
       "      <td>2018-04-23</td>\n",
       "      <td>1856</td>\n",
       "      <td>13323</td>\n",
       "      <td>0</td>\n",
       "      <td>0.846015</td>\n",
       "      <td>2018</td>\n",
       "      <td>4</td>\n",
       "      <td>17</td>\n",
       "      <td>0</td>\n",
       "      <td>...</td>\n",
       "      <td>0</td>\n",
       "      <td>3</td>\n",
       "      <td>4</td>\n",
       "      <td>96</td>\n",
       "      <td>9</td>\n",
       "      <td>4</td>\n",
       "      <td>225</td>\n",
       "      <td>7</td>\n",
       "      <td>4.500000e+08</td>\n",
       "      <td>0</td>\n",
       "    </tr>\n",
       "    <tr>\n",
       "      <th>1</th>\n",
       "      <td>c2cc6cc2a8</td>\n",
       "      <td>2018-04-23</td>\n",
       "      <td>1856</td>\n",
       "      <td>9230</td>\n",
       "      <td>0</td>\n",
       "      <td>0.862422</td>\n",
       "      <td>2018</td>\n",
       "      <td>4</td>\n",
       "      <td>17</td>\n",
       "      <td>0</td>\n",
       "      <td>...</td>\n",
       "      <td>0</td>\n",
       "      <td>3</td>\n",
       "      <td>4</td>\n",
       "      <td>87</td>\n",
       "      <td>7</td>\n",
       "      <td>7</td>\n",
       "      <td>194</td>\n",
       "      <td>10</td>\n",
       "      <td>4.000000e+08</td>\n",
       "      <td>0</td>\n",
       "    </tr>\n",
       "    <tr>\n",
       "      <th>2</th>\n",
       "      <td>a8e94f6344</td>\n",
       "      <td>2018-04-23</td>\n",
       "      <td>1780</td>\n",
       "      <td>9157</td>\n",
       "      <td>0</td>\n",
       "      <td>0.775808</td>\n",
       "      <td>2018</td>\n",
       "      <td>4</td>\n",
       "      <td>17</td>\n",
       "      <td>0</td>\n",
       "      <td>...</td>\n",
       "      <td>0</td>\n",
       "      <td>7</td>\n",
       "      <td>22</td>\n",
       "      <td>83</td>\n",
       "      <td>1</td>\n",
       "      <td>9</td>\n",
       "      <td>81</td>\n",
       "      <td>2</td>\n",
       "      <td>3.000000e+08</td>\n",
       "      <td>1</td>\n",
       "    </tr>\n",
       "    <tr>\n",
       "      <th>3</th>\n",
       "      <td>758bae1e35</td>\n",
       "      <td>2018-04-23</td>\n",
       "      <td>2129</td>\n",
       "      <td>9131</td>\n",
       "      <td>0</td>\n",
       "      <td>0.798040</td>\n",
       "      <td>2018</td>\n",
       "      <td>4</td>\n",
       "      <td>17</td>\n",
       "      <td>1</td>\n",
       "      <td>...</td>\n",
       "      <td>0</td>\n",
       "      <td>7</td>\n",
       "      <td>22</td>\n",
       "      <td>83</td>\n",
       "      <td>1</td>\n",
       "      <td>9</td>\n",
       "      <td>81</td>\n",
       "      <td>7</td>\n",
       "      <td>4.000000e+09</td>\n",
       "      <td>0</td>\n",
       "    </tr>\n",
       "    <tr>\n",
       "      <th>4</th>\n",
       "      <td>02ab378ee8</td>\n",
       "      <td>2018-04-23</td>\n",
       "      <td>1758</td>\n",
       "      <td>7151</td>\n",
       "      <td>0</td>\n",
       "      <td>0.796797</td>\n",
       "      <td>2018</td>\n",
       "      <td>4</td>\n",
       "      <td>17</td>\n",
       "      <td>0</td>\n",
       "      <td>...</td>\n",
       "      <td>0</td>\n",
       "      <td>7</td>\n",
       "      <td>24</td>\n",
       "      <td>79</td>\n",
       "      <td>14</td>\n",
       "      <td>12</td>\n",
       "      <td>92</td>\n",
       "      <td>10</td>\n",
       "      <td>3.000000e+08</td>\n",
       "      <td>0</td>\n",
       "    </tr>\n",
       "  </tbody>\n",
       "</table>\n",
       "<p>5 rows × 29 columns</p>\n",
       "</div>"
      ],
      "text/plain": [
       "  PredictionIdx TradeDateKey  CustomerIdx  IsinIdx  BuySell  CustomerInterest  \\\n",
       "0    a1e0d80784   2018-04-23         1856    13323        0          0.846015   \n",
       "1    c2cc6cc2a8   2018-04-23         1856     9230        0          0.862422   \n",
       "2    a8e94f6344   2018-04-23         1780     9157        0          0.775808   \n",
       "3    758bae1e35   2018-04-23         2129     9131        0          0.798040   \n",
       "4    02ab378ee8   2018-04-23         1758     7151        0          0.796797   \n",
       "\n",
       "   year  month  weekofyear  Sector     ...      BondRegion  Activity  \\\n",
       "0  2018      4          17       0     ...               0         3   \n",
       "1  2018      4          17       0     ...               0         3   \n",
       "2  2018      4          17       0     ...               0         7   \n",
       "3  2018      4          17       1     ...               0         7   \n",
       "4  2018      4          17       0     ...               0         7   \n",
       "\n",
       "   RiskCaptain  Owner CompositeRating IndustrySector  IndustrySubgroup  \\\n",
       "0            4     96               9              4               225   \n",
       "1            4     87               7              7               194   \n",
       "2           22     83               1              9                81   \n",
       "3           22     83               1              9                81   \n",
       "4           24     79              14             12                92   \n",
       "\n",
       "   MarketIssue  IssuedAmount  CouponType  \n",
       "0            7  4.500000e+08           0  \n",
       "1           10  4.000000e+08           0  \n",
       "2            2  3.000000e+08           1  \n",
       "3            7  4.000000e+09           0  \n",
       "4           10  3.000000e+08           0  \n",
       "\n",
       "[5 rows x 29 columns]"
      ]
     },
     "execution_count": 109,
     "metadata": {},
     "output_type": "execute_result"
    }
   ],
   "source": [
    "test['CustomerInterest'] = model_holdings.predict(test.loc[:,predictors_holdings].values)\n",
    "test.head()"
   ]
  },
  {
   "cell_type": "code",
   "execution_count": 110,
   "metadata": {},
   "outputs": [
    {
     "data": {
      "text/plain": [
       "count    484758.000000\n",
       "mean          0.713437\n",
       "std           0.132138\n",
       "min           0.003300\n",
       "25%           0.626571\n",
       "50%           0.729999\n",
       "75%           0.806241\n",
       "max           0.997809\n",
       "Name: CustomerInterest, dtype: float64"
      ]
     },
     "execution_count": 110,
     "metadata": {},
     "output_type": "execute_result"
    }
   ],
   "source": [
    "test.CustomerInterest.describe()\n",
    "#test[['PredictionIdx','CustomerInterest']].to_csv('submission_sambeet_syntheticlast6months.csv', index=False)"
   ]
  }
 ],
 "metadata": {
  "kernelspec": {
   "display_name": "Python 2",
   "language": "python",
   "name": "python2"
  },
  "language_info": {
   "codemirror_mode": {
    "name": "ipython",
    "version": 2
   },
   "file_extension": ".py",
   "mimetype": "text/x-python",
   "name": "python",
   "nbconvert_exporter": "python",
   "pygments_lexer": "ipython2",
   "version": "2.7.13"
  }
 },
 "nbformat": 4,
 "nbformat_minor": 1
}
